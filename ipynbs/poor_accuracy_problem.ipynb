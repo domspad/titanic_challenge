{
 "metadata": {
  "name": ""
 },
 "nbformat": 3,
 "nbformat_minor": 0,
 "worksheets": [
  {
   "cells": [
    {
     "cell_type": "heading",
     "level": 1,
     "metadata": {},
     "source": [
      "Accuracy hasn't improved?"
     ]
    },
    {
     "cell_type": "heading",
     "level": 4,
     "metadata": {},
     "source": [
      "Looking into the data to see what sort of accuracy I've been achieving, and what I'd like to see"
     ]
    },
    {
     "cell_type": "code",
     "collapsed": false,
     "input": [
      "%matplotlib inline\n",
      "import matplotlib.pyplot as plt\n",
      "import numpy as np\n",
      "import pandas as pd\n",
      "pd.set_option('display.max_columns', 50)"
     ],
     "language": "python",
     "metadata": {},
     "outputs": [],
     "prompt_number": 32
    },
    {
     "cell_type": "code",
     "collapsed": false,
     "input": [
      "testfile = \"/Users/dominicspadacene/Desktop/github_projects/titanic_challenge/data/test_filled.csv\""
     ],
     "language": "python",
     "metadata": {},
     "outputs": [],
     "prompt_number": 33
    },
    {
     "cell_type": "code",
     "collapsed": false,
     "input": [
      "pred1file = \"/Users/dominicspadacene/Desktop/github_projects/titanic_challenge/predictions/test_pred1.csv\"\n",
      "pred2file = \"/Users/dominicspadacene/Desktop/github_projects/titanic_challenge/predictions/test_pred2.csv\"\n",
      "pred3file = \"/Users/dominicspadacene/Desktop/github_projects/titanic_challenge/predictions/test_pred3.csv\""
     ],
     "language": "python",
     "metadata": {},
     "outputs": [],
     "prompt_number": 34
    },
    {
     "cell_type": "code",
     "collapsed": false,
     "input": [
      "pred1 = pd.read_csv(pred1file,index_col='PassengerId')\n",
      "pred2 = pd.read_csv(pred2file,index_col='PassengerId')\n",
      "pred3 = pd.read_csv(pred3file,index_col='PassengerId')"
     ],
     "language": "python",
     "metadata": {},
     "outputs": [],
     "prompt_number": 35
    },
    {
     "cell_type": "code",
     "collapsed": false,
     "input": [
      "df = pd.read_csv(testfile,index_col='PassengerId')"
     ],
     "language": "python",
     "metadata": {},
     "outputs": [],
     "prompt_number": 36
    },
    {
     "cell_type": "code",
     "collapsed": false,
     "input": [
      "for e,pred in enumerate([pred1,pred2,pred3]) :\n",
      "    df['pred_{}'.format(e+1)] = pred.Survived"
     ],
     "language": "python",
     "metadata": {},
     "outputs": [],
     "prompt_number": 37
    },
    {
     "cell_type": "code",
     "collapsed": false,
     "input": [
      "df = df[['Survived','pred_1','pred_2','pred_3']]"
     ],
     "language": "python",
     "metadata": {},
     "outputs": [],
     "prompt_number": 38
    },
    {
     "cell_type": "code",
     "collapsed": false,
     "input": [
      "df.describe()"
     ],
     "language": "python",
     "metadata": {},
     "outputs": [
      {
       "html": [
        "<div style=\"max-height:1000px;max-width:1500px;overflow:auto;\">\n",
        "<table border=\"1\" class=\"dataframe\">\n",
        "  <thead>\n",
        "    <tr style=\"text-align: right;\">\n",
        "      <th></th>\n",
        "      <th>Survived</th>\n",
        "      <th>pred_1</th>\n",
        "      <th>pred_2</th>\n",
        "      <th>pred_3</th>\n",
        "    </tr>\n",
        "  </thead>\n",
        "  <tbody>\n",
        "    <tr>\n",
        "      <th>count</th>\n",
        "      <td> 418.000000</td>\n",
        "      <td> 418.000000</td>\n",
        "      <td> 418.000000</td>\n",
        "      <td> 418.000000</td>\n",
        "    </tr>\n",
        "    <tr>\n",
        "      <th>mean</th>\n",
        "      <td>   0.375598</td>\n",
        "      <td>   0.382775</td>\n",
        "      <td>   0.363636</td>\n",
        "      <td>   0.409091</td>\n",
        "    </tr>\n",
        "    <tr>\n",
        "      <th>std</th>\n",
        "      <td>   0.484857</td>\n",
        "      <td>   0.486647</td>\n",
        "      <td>   0.481622</td>\n",
        "      <td>   0.492255</td>\n",
        "    </tr>\n",
        "    <tr>\n",
        "      <th>min</th>\n",
        "      <td>   0.000000</td>\n",
        "      <td>   0.000000</td>\n",
        "      <td>   0.000000</td>\n",
        "      <td>   0.000000</td>\n",
        "    </tr>\n",
        "    <tr>\n",
        "      <th>25%</th>\n",
        "      <td>   0.000000</td>\n",
        "      <td>   0.000000</td>\n",
        "      <td>   0.000000</td>\n",
        "      <td>   0.000000</td>\n",
        "    </tr>\n",
        "    <tr>\n",
        "      <th>50%</th>\n",
        "      <td>   0.000000</td>\n",
        "      <td>   0.000000</td>\n",
        "      <td>   0.000000</td>\n",
        "      <td>   0.000000</td>\n",
        "    </tr>\n",
        "    <tr>\n",
        "      <th>75%</th>\n",
        "      <td>   1.000000</td>\n",
        "      <td>   1.000000</td>\n",
        "      <td>   1.000000</td>\n",
        "      <td>   1.000000</td>\n",
        "    </tr>\n",
        "    <tr>\n",
        "      <th>max</th>\n",
        "      <td>   1.000000</td>\n",
        "      <td>   1.000000</td>\n",
        "      <td>   1.000000</td>\n",
        "      <td>   1.000000</td>\n",
        "    </tr>\n",
        "  </tbody>\n",
        "</table>\n",
        "</div>"
       ],
       "metadata": {},
       "output_type": "pyout",
       "prompt_number": 39,
       "text": [
        "         Survived      pred_1      pred_2      pred_3\n",
        "count  418.000000  418.000000  418.000000  418.000000\n",
        "mean     0.375598    0.382775    0.363636    0.409091\n",
        "std      0.484857    0.486647    0.481622    0.492255\n",
        "min      0.000000    0.000000    0.000000    0.000000\n",
        "25%      0.000000    0.000000    0.000000    0.000000\n",
        "50%      0.000000    0.000000    0.000000    0.000000\n",
        "75%      1.000000    1.000000    1.000000    1.000000\n",
        "max      1.000000    1.000000    1.000000    1.000000"
       ]
      }
     ],
     "prompt_number": 39
    },
    {
     "cell_type": "code",
     "collapsed": false,
     "input": [
      "(df.Survived == df.pred_1).value_counts() / 418.0"
     ],
     "language": "python",
     "metadata": {},
     "outputs": [
      {
       "metadata": {},
       "output_type": "pyout",
       "prompt_number": 40,
       "text": [
        "True     0.767943\n",
        "False    0.232057\n",
        "dtype: float64"
       ]
      }
     ],
     "prompt_number": 40
    },
    {
     "cell_type": "code",
     "collapsed": false,
     "input": [
      "(df.Survived == df.pred_2).value_counts() / 418.0"
     ],
     "language": "python",
     "metadata": {},
     "outputs": [
      {
       "metadata": {},
       "output_type": "pyout",
       "prompt_number": 41,
       "text": [
        "True     0.753589\n",
        "False    0.246411\n",
        "dtype: float64"
       ]
      }
     ],
     "prompt_number": 41
    },
    {
     "cell_type": "code",
     "collapsed": false,
     "input": [
      "(df.Survived == df.pred_3).value_counts() / 418.0"
     ],
     "language": "python",
     "metadata": {},
     "outputs": [
      {
       "metadata": {},
       "output_type": "pyout",
       "prompt_number": 42,
       "text": [
        "True     0.755981\n",
        "False    0.244019\n",
        "dtype: float64"
       ]
      }
     ],
     "prompt_number": 42
    },
    {
     "cell_type": "heading",
     "level": 4,
     "metadata": {},
     "source": [
      "Now to look at training set prediction accuracies"
     ]
    },
    {
     "cell_type": "code",
     "collapsed": false,
     "input": [
      "trainfile = \"/Users/dominicspadacene/Desktop/github_projects/titanic_challenge/data/train.csv\"\n",
      "df = pd.read_csv(trainfile,index_col='PassengerId')\n",
      "\n",
      "df = df[:691]"
     ],
     "language": "python",
     "metadata": {},
     "outputs": [],
     "prompt_number": 82
    },
    {
     "cell_type": "code",
     "collapsed": false,
     "input": [
      "trainpred1file = \"/Users/dominicspadacene/Desktop/github_projects/titanic_challenge/predictions/train_pred1.csv\"\n",
      "trainpred2file = \"/Users/dominicspadacene/Desktop/github_projects/titanic_challenge/predictions/train_pred2.csv\"\n",
      "trainpred3file = \"/Users/dominicspadacene/Desktop/github_projects/titanic_challenge/predictions/train_pred3.csv\"\n",
      "\n",
      "trainpred1 = pd.read_csv(trainpred1file,index_col='PassengerId')\n",
      "trainpred2 = pd.read_csv(trainpred2file,index_col='PassengerId')\n",
      "trainpred3 = pd.read_csv(trainpred3file,index_col='PassengerId')\n",
      "\n",
      "for d in [trainpred1, trainpred2,trainpred3] :\n",
      "    d = d[:691]"
     ],
     "language": "python",
     "metadata": {},
     "outputs": [],
     "prompt_number": 83
    },
    {
     "cell_type": "code",
     "collapsed": false,
     "input": [
      "for e,pred in enumerate([trainpred1,trainpred2,trainpred3]) :\n",
      "    df['pred_{}'.format(e+1)] = pred.Survived\n",
      "\n",
      "df = df[['Survived','pred_1','pred_2','pred_3']]"
     ],
     "language": "python",
     "metadata": {},
     "outputs": [],
     "prompt_number": 84
    },
    {
     "cell_type": "code",
     "collapsed": false,
     "input": [
      "(df.Survived == df.pred_1).value_counts() / 691"
     ],
     "language": "python",
     "metadata": {},
     "outputs": [
      {
       "metadata": {},
       "output_type": "pyout",
       "prompt_number": 90,
       "text": [
        "True     0.782923\n",
        "False    0.217077\n",
        "dtype: float64"
       ]
      }
     ],
     "prompt_number": 90
    },
    {
     "cell_type": "code",
     "collapsed": false,
     "input": [
      "(df.Survived == df.pred_2).value_counts() / 691"
     ],
     "language": "python",
     "metadata": {},
     "outputs": [
      {
       "metadata": {},
       "output_type": "pyout",
       "prompt_number": 89,
       "text": [
        "True     0.846599\n",
        "False    0.153401\n",
        "dtype: float64"
       ]
      }
     ],
     "prompt_number": 89
    },
    {
     "cell_type": "code",
     "collapsed": false,
     "input": [
      "(df.Survived == df.pred_3).value_counts() / 691"
     ],
     "language": "python",
     "metadata": {},
     "outputs": [
      {
       "metadata": {},
       "output_type": "pyout",
       "prompt_number": 88,
       "text": [
        "True     0.842258\n",
        "False    0.157742\n",
        "dtype: float64"
       ]
      }
     ],
     "prompt_number": 88
    },
    {
     "cell_type": "heading",
     "level": 4,
     "metadata": {},
     "source": [
      "CV set prediction accuracies"
     ]
    },
    {
     "cell_type": "code",
     "collapsed": false,
     "input": [
      "trainfile = \"/Users/dominicspadacene/Desktop/github_projects/titanic_challenge/data/train.csv\"\n",
      "df = pd.read_csv(trainfile,index_col='PassengerId')\n",
      "\n",
      "df = df[691:]"
     ],
     "language": "python",
     "metadata": {},
     "outputs": [],
     "prompt_number": 91
    },
    {
     "cell_type": "code",
     "collapsed": false,
     "input": [
      "trainpred1file = \"/Users/dominicspadacene/Desktop/github_projects/titanic_challenge/predictions/train_pred1.csv\"\n",
      "trainpred2file = \"/Users/dominicspadacene/Desktop/github_projects/titanic_challenge/predictions/train_pred2.csv\"\n",
      "trainpred3file = \"/Users/dominicspadacene/Desktop/github_projects/titanic_challenge/predictions/train_pred3.csv\"\n",
      "\n",
      "trainpred1 = pd.read_csv(trainpred1file,index_col='PassengerId')\n",
      "trainpred2 = pd.read_csv(trainpred2file,index_col='PassengerId')\n",
      "trainpred3 = pd.read_csv(trainpred3file,index_col='PassengerId')\n",
      "\n",
      "for d in [trainpred1, trainpred2,trainpred3] :\n",
      "    d = d[691:]"
     ],
     "language": "python",
     "metadata": {},
     "outputs": [],
     "prompt_number": 92
    },
    {
     "cell_type": "code",
     "collapsed": false,
     "input": [
      "for e,pred in enumerate([trainpred1,trainpred2,trainpred3]) :\n",
      "    df['pred_{}'.format(e+1)] = pred.Survived\n",
      "\n",
      "df = df[['Survived','pred_1','pred_2','pred_3']]"
     ],
     "language": "python",
     "metadata": {},
     "outputs": [],
     "prompt_number": 93
    },
    {
     "cell_type": "code",
     "collapsed": false,
     "input": [
      "(df.Survived == df.pred_1).value_counts() / 200"
     ],
     "language": "python",
     "metadata": {},
     "outputs": [
      {
       "metadata": {},
       "output_type": "pyout",
       "prompt_number": 94,
       "text": [
        "True     0.815\n",
        "False    0.185\n",
        "dtype: float64"
       ]
      }
     ],
     "prompt_number": 94
    },
    {
     "cell_type": "code",
     "collapsed": false,
     "input": [
      "(df.Survived == df.pred_2).value_counts() / 200"
     ],
     "language": "python",
     "metadata": {},
     "outputs": [
      {
       "metadata": {},
       "output_type": "pyout",
       "prompt_number": 95,
       "text": [
        "True     0.865\n",
        "False    0.135\n",
        "dtype: float64"
       ]
      }
     ],
     "prompt_number": 95
    },
    {
     "cell_type": "code",
     "collapsed": false,
     "input": [
      "(df.Survived == df.pred_3).value_counts() / 200"
     ],
     "language": "python",
     "metadata": {},
     "outputs": [
      {
       "metadata": {},
       "output_type": "pyout",
       "prompt_number": 96,
       "text": [
        "True     0.875\n",
        "False    0.125\n",
        "dtype: float64"
       ]
      }
     ],
     "prompt_number": 96
    },
    {
     "cell_type": "code",
     "collapsed": false,
     "input": [],
     "language": "python",
     "metadata": {},
     "outputs": []
    }
   ],
   "metadata": {}
  }
 ]
}