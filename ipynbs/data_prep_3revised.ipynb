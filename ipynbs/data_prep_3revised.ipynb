{
 "metadata": {
  "name": ""
 },
 "nbformat": 3,
 "nbformat_minor": 0,
 "worksheets": [
  {
   "cells": [
    {
     "cell_type": "markdown",
     "metadata": {},
     "source": [
      "This notebook generates the data for the second model - simply run all the cells"
     ]
    },
    {
     "cell_type": "code",
     "collapsed": false,
     "input": [
      "%matplotlib inline\n",
      "import matplotlib.pyplot as plt\n",
      "import numpy as np\n",
      "import pandas as pd"
     ],
     "language": "python",
     "metadata": {},
     "outputs": [],
     "prompt_number": 1
    },
    {
     "cell_type": "heading",
     "level": 1,
     "metadata": {},
     "source": [
      "Load data"
     ]
    },
    {
     "cell_type": "code",
     "collapsed": false,
     "input": [
      "datafile = \"/Users/dominicspadacene/Desktop/github_projects/titanic_challenge/data/full.csv\"\n",
      "train_outfile = \"/Users/dominicspadacene/Desktop/github_projects/titanic_challenge/data/train3.csv\"\n",
      "cv_outfile = \"/Users/dominicspadacene/Desktop/github_projects/titanic_challenge/data/cv3.csv\"\n",
      "test_outfile = \"/Users/dominicspadacene/Desktop/github_projects/titanic_challenge/data/test3.csv\"\n",
      "\n",
      "cv_boundary_index = 691\n",
      "test_boundary_index = 891 #where test data starts"
     ],
     "language": "python",
     "metadata": {},
     "outputs": [],
     "prompt_number": 2
    },
    {
     "cell_type": "code",
     "collapsed": false,
     "input": [
      "df = pd.read_csv(datafile, index_col='PassengerId')\n",
      "df.shape"
     ],
     "language": "python",
     "metadata": {},
     "outputs": [
      {
       "metadata": {},
       "output_type": "pyout",
       "prompt_number": 3,
       "text": [
        "(1309, 11)"
       ]
      }
     ],
     "prompt_number": 3
    },
    {
     "cell_type": "code",
     "collapsed": false,
     "input": [],
     "language": "python",
     "metadata": {},
     "outputs": []
    }
   ],
   "metadata": {}
  }
 ]
}