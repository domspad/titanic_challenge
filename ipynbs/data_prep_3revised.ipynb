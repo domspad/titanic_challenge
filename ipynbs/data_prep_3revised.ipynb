{
 "metadata": {
  "name": ""
 },
 "nbformat": 3,
 "nbformat_minor": 0,
 "worksheets": [
  {
   "cells": [
    {
     "cell_type": "markdown",
     "metadata": {},
     "source": [
      "This notebook generates the data for the second model - simply run all the cells"
     ]
    },
    {
     "cell_type": "code",
     "collapsed": false,
     "input": [
      "%matplotlib inline\n",
      "import matplotlib.pyplot as plt\n",
      "import numpy as np\n",
      "import pandas as pd"
     ],
     "language": "python",
     "metadata": {},
     "outputs": [],
     "prompt_number": 5
    },
    {
     "cell_type": "heading",
     "level": 1,
     "metadata": {},
     "source": [
      "Load data"
     ]
    },
    {
     "cell_type": "code",
     "collapsed": false,
     "input": [
      "datafile = \"/Users/dominicspadacene/Desktop/github_projects/titanic_challenge/data/full.csv\"\n",
      "train_outfile = \"/Users/dominicspadacene/Desktop/github_projects/titanic_challenge/data/train3.csv\"\n",
      "cv_outfile = \"/Users/dominicspadacene/Desktop/github_projects/titanic_challenge/data/cv3.csv\"\n",
      "test_outfile = \"/Users/dominicspadacene/Desktop/github_projects/titanic_challenge/data/test3.csv\"\n",
      "\n",
      "cv_boundary_index = 691\n",
      "test_boundary_index = 891 #where test data starts"
     ],
     "language": "python",
     "metadata": {},
     "outputs": [],
     "prompt_number": 6
    },
    {
     "cell_type": "code",
     "collapsed": false,
     "input": [
      "df = pd.read_csv(datafile, index_col='PassengerId')\n",
      "df.shape"
     ],
     "language": "python",
     "metadata": {},
     "outputs": [
      {
       "metadata": {},
       "output_type": "pyout",
       "prompt_number": 7,
       "text": [
        "(1309, 11)"
       ]
      }
     ],
     "prompt_number": 7
    },
    {
     "cell_type": "code",
     "collapsed": false,
     "input": [
      "df.info()"
     ],
     "language": "python",
     "metadata": {},
     "outputs": [
      {
       "output_type": "stream",
       "stream": "stdout",
       "text": [
        "<class 'pandas.core.frame.DataFrame'>\n",
        "Int64Index: 1309 entries, 1 to 1309\n",
        "Data columns (total 11 columns):\n",
        "Survived    1309 non-null int64\n",
        "Pclass      1309 non-null int64\n",
        "Name        1309 non-null object\n",
        "Sex         1309 non-null object\n",
        "Age         1046 non-null float64\n",
        "SibSp       1309 non-null int64\n",
        "Parch       1309 non-null int64\n",
        "Ticket      1309 non-null object\n",
        "Fare        1308 non-null float64\n",
        "Cabin       295 non-null object\n",
        "Embarked    1307 non-null object\n",
        "dtypes: float64(2), int64(4), object(5)\n",
        "memory usage: 122.7+ KB\n"
       ]
      }
     ],
     "prompt_number": 8
    },
    {
     "cell_type": "heading",
     "level": 1,
     "metadata": {},
     "source": [
      "Clean and Add Features"
     ]
    },
    {
     "cell_type": "code",
     "collapsed": false,
     "input": [
      "def other_cat(cabin) :\n",
      "    if isinstance(cabin,str) :\n",
      "        if cabin[0] in ['A','B','C','D','E','F'] :\n",
      "            return cabin[0]\n",
      "        else:\n",
      "            return 'other'\n",
      "    else :\n",
      "        return cabin"
     ],
     "language": "python",
     "metadata": {},
     "outputs": [],
     "prompt_number": 9
    },
    {
     "cell_type": "code",
     "collapsed": false,
     "input": [
      "df['Gender'] = df.Sex.map({'male': 0,'female' : 1})\n",
      "df['AgeisNull'] = df.Age.isnull().astype(int)\n",
      "df['CabinisNull'] = df.Cabin.isnull().astype(int)\n",
      "df['Alone'] = ((df.SibSp + df.Parch)==0).astype(int)\n",
      "\n",
      "portdf = pd.get_dummies(df.Embarked,prefix='port')\n",
      "df = pd.merge(df,portdf,left_index=True,right_index=True)\n",
      "\n",
      "df = pd.merge(df,pd.get_dummies(df.Pclass,prefix='Pclass'), left_index=True, right_index=True)\n"
     ],
     "language": "python",
     "metadata": {},
     "outputs": [],
     "prompt_number": 10
    },
    {
     "cell_type": "code",
     "collapsed": false,
     "input": [
      "masters_idx = df.Name.apply(lambda x: 'Master' in x)\n",
      "mr_idx = df.Name.apply(lambda x: 'Mr.' in x)\n",
      "dr_idx = df.Name.apply(lambda x: 'Dr.' in x) # 7 doctors\n",
      "rev_idx = df.Name.apply(lambda x: 'Rev.' in x)\n",
      "masters = masters_idx.astype(int)\n",
      "mr = mr_idx.astype(int)\n",
      "dr = dr_idx.astype(int)\n",
      "rev = rev_idx.astype(int)\n",
      "df['Master'] = masters\n",
      "df['Mr'] = mr\n",
      "df['Dr'] = dr\n",
      "# df[~(mr_idx | masters_idx) & ~(df.Sex == 'female')] special men!\n"
     ],
     "language": "python",
     "metadata": {},
     "outputs": [],
     "prompt_number": 13
    },
    {
     "cell_type": "code",
     "collapsed": false,
     "input": [
      "miss_idx = df.Name.apply(lambda x: 'Miss' in x)\n",
      "mrs_idx = df.Name.apply(lambda x: 'Mrs' in x)\n",
      "miss = miss_idx.astype(int)\n",
      "mrs = mrs_idx.astype(int)\n",
      "df['Miss'] = miss\n",
      "df['Mrs'] = mrs\n",
      "# df[~(miss_idx | mrs_idx) & ~(df.Sex == 'male')] special women!"
     ],
     "language": "python",
     "metadata": {},
     "outputs": [],
     "prompt_number": 14
    },
    {
     "cell_type": "heading",
     "level": 2,
     "metadata": {},
     "source": [
      "For features dependent on training set statistics"
     ]
    },
    {
     "cell_type": "code",
     "collapsed": false,
     "input": [
      "#AGEFILL, AGE BUCKETS, FARE_Buckets TO COME AT END (bc need to split df then)"
     ],
     "language": "python",
     "metadata": {},
     "outputs": [],
     "prompt_number": 15
    },
    {
     "cell_type": "code",
     "collapsed": false,
     "input": [],
     "language": "python",
     "metadata": {},
     "outputs": []
    }
   ],
   "metadata": {}
  }
 ]
}