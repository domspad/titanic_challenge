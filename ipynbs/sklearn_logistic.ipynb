{
 "metadata": {
  "name": ""
 },
 "nbformat": 3,
 "nbformat_minor": 0,
 "worksheets": [
  {
   "cells": [
    {
     "cell_type": "code",
     "collapsed": false,
     "input": [
      "import numpy as np\n",
      "import matplotlib.pyplot as plt\n",
      "\n",
      "from sklearn.linear_model import LogisticRegression\n",
      "from sklearn import datasets\n",
      "from sklearn.preprocessing import StandardScaler\n",
      "\n",
      "digits = datasets.load_digits()\n",
      "\n",
      "X, y = digits.data, digits.target\n",
      "X = StandardScaler().fit_transform(X)\n",
      "\n",
      "# classify small against large digits\n",
      "y = (y > 4).astype(np.int)"
     ],
     "language": "python",
     "metadata": {},
     "outputs": [],
     "prompt_number": 219
    },
    {
     "cell_type": "code",
     "collapsed": false,
     "input": [
      "y"
     ],
     "language": "python",
     "metadata": {},
     "outputs": [
      {
       "metadata": {},
       "output_type": "pyout",
       "prompt_number": 220,
       "text": [
        "array([0, 0, 0, ..., 1, 1, 1])"
       ]
      }
     ],
     "prompt_number": 220
    },
    {
     "cell_type": "code",
     "collapsed": false,
     "input": [
      "import pandas as pd"
     ],
     "language": "python",
     "metadata": {},
     "outputs": [],
     "prompt_number": 221
    },
    {
     "cell_type": "code",
     "collapsed": false,
     "input": [
      "train_data = \"/Users/dominicspadacene/Desktop/github_projects/titanic_challenge/data/train3.csv\"\n",
      "cv_data = \"/Users/dominicspadacene/Desktop/github_projects/titanic_challenge/data/cv3.csv\"\n",
      "test_data = \"/Users/dominicspadacene/Desktop/github_projects/titanic_challenge/data/test3.csv\""
     ],
     "language": "python",
     "metadata": {},
     "outputs": [],
     "prompt_number": 223
    },
    {
     "cell_type": "code",
     "collapsed": false,
     "input": [
      "traindf = pd.read_csv(train_data,header=None)\n",
      "cvdf = pd.read_csv(cv_data,header=None)\n",
      "testdf = pd.read_csv(test_data,header=None)"
     ],
     "language": "python",
     "metadata": {},
     "outputs": [],
     "prompt_number": 224
    },
    {
     "cell_type": "code",
     "collapsed": false,
     "input": [
      "fulltraindf = pd.concat([traindf,cvdf])"
     ],
     "language": "python",
     "metadata": {},
     "outputs": [],
     "prompt_number": 350
    },
    {
     "cell_type": "code",
     "collapsed": false,
     "input": [
      "Xtrain = traindf.loc[:,:28].values\n",
      "ytrain = traindf.loc[:,29].values\n",
      "\n",
      "Xcv = cvdf.loc[:,:28].values\n",
      "ycv = cvdf.loc[:,29].values\n",
      "\n",
      "Xfulltrain = fulltraindf.loc[:,:28].values\n",
      "yfulltrain = fulltraindf.loc[:,29].values\n",
      "\n",
      "Xtest = testdf.loc[:,:28].values\n",
      "ytest = testdf.loc[:,29].values"
     ],
     "language": "python",
     "metadata": {},
     "outputs": [],
     "prompt_number": 352
    },
    {
     "cell_type": "code",
     "collapsed": false,
     "input": [
      "clf = LogisticRegression(C=0.5,penalty='l1',tol=0.1)\n",
      "\n",
      "#without trying to fit the test set, just the cv set... then training\n",
      "# on the full training set (with cv) still get 323/419 (same as octave)\n",
      "# by not training with the cv get around 329/419"
     ],
     "language": "python",
     "metadata": {},
     "outputs": [],
     "prompt_number": 466
    },
    {
     "cell_type": "code",
     "collapsed": false,
     "input": [
      "clf.fit(Xtrain,ytrain)"
     ],
     "language": "python",
     "metadata": {},
     "outputs": [
      {
       "metadata": {},
       "output_type": "pyout",
       "prompt_number": 482,
       "text": [
        "LogisticRegression(C=0.5, class_weight=None, dual=False, fit_intercept=True,\n",
        "          intercept_scaling=1, penalty='l1', random_state=None, tol=0.1)"
       ]
      }
     ],
     "prompt_number": 482
    },
    {
     "cell_type": "code",
     "collapsed": false,
     "input": [
      "sum(clf.predict(Xcv) == ycv)"
     ],
     "language": "python",
     "metadata": {},
     "outputs": [
      {
       "metadata": {},
       "output_type": "pyout",
       "prompt_number": 483,
       "text": [
        "170"
       ]
      }
     ],
     "prompt_number": 483
    },
    {
     "cell_type": "code",
     "collapsed": true,
     "input": [
      "sum(clf.predict(Xtest) == ytest)"
     ],
     "language": "python",
     "metadata": {},
     "outputs": [
      {
       "metadata": {},
       "output_type": "pyout",
       "prompt_number": 484,
       "text": [
        "329"
       ]
      }
     ],
     "prompt_number": 484
    },
    {
     "cell_type": "code",
     "collapsed": false,
     "input": [
      "for i in clf.coef_[0] :\n",
      "    print '{:0.3f}'.format(i)\n"
     ],
     "language": "python",
     "metadata": {},
     "outputs": [
      {
       "output_type": "stream",
       "stream": "stdout",
       "text": [
        "-0.478\n",
        "-0.296\n",
        "0.002\n",
        "2.075\n",
        "-0.431\n",
        "-0.270\n",
        "-0.052\n",
        "-0.116\n",
        "-0.166\n",
        "-0.609\n",
        "0.820\n",
        "0.228\n",
        "-0.561\n",
        "2.776\n",
        "-0.422\n",
        "0.000\n",
        "0.404\n",
        "0.786\n",
        "-0.007\n",
        "0.000\n",
        "-0.176\n",
        "0.273\n",
        "0.000\n",
        "-0.446\n",
        "-0.152\n",
        "-0.353\n",
        "-0.096\n",
        "0.000\n",
        "0.376\n"
       ]
      }
     ],
     "prompt_number": 416
    },
    {
     "cell_type": "code",
     "collapsed": false,
     "input": [],
     "language": "python",
     "metadata": {},
     "outputs": []
    }
   ],
   "metadata": {}
  }
 ]
}