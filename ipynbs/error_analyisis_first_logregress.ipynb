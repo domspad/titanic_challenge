{
 "metadata": {
  "name": ""
 },
 "nbformat": 3,
 "nbformat_minor": 0,
 "worksheets": [
  {
   "cells": [
    {
     "cell_type": "code",
     "collapsed": false,
     "input": [
      "%matplotlib inline\n",
      "import pandas as pd\n",
      "import numpy as np\n",
      "import matplotlib.pyplot as plt\n"
     ],
     "language": "python",
     "metadata": {},
     "outputs": [],
     "prompt_number": 2
    },
    {
     "cell_type": "code",
     "collapsed": false,
     "input": [
      "trainfile = \"/Users/dominicspadacene/Desktop/coursera_ml/titanic_challenge/data/train.csv\"\n",
      "predfile = \"/Users/dominicspadacene/Desktop/coursera_ml/titanic_challenge/predictions/model1.csv\"\n",
      "\n"
     ],
     "language": "python",
     "metadata": {},
     "outputs": [],
     "prompt_number": 26
    },
    {
     "cell_type": "code",
     "collapsed": false,
     "input": [
      "df['model1pred'] = pd.read_csv(predfile)"
     ],
     "language": "python",
     "metadata": {},
     "outputs": []
    },
    {
     "cell_type": "code",
     "collapsed": false,
     "input": [],
     "language": "python",
     "metadata": {},
     "outputs": []
    },
    {
     "cell_type": "code",
     "collapsed": false,
     "input": [
      "df = pd.read_csv(trainfile,index_col='PassengerId')\n",
      "dfpreds = pd.read_csv(predfile,header=None,index_col=0)\n",
      "df['model1preds'] = dfpreds[1]"
     ],
     "language": "python",
     "metadata": {},
     "outputs": [],
     "prompt_number": 56
    },
    {
     "cell_type": "code",
     "collapsed": false,
     "input": [
      "(df.Survived == df.model1preds).astype(int).mean()"
     ],
     "language": "python",
     "metadata": {},
     "outputs": [
      {
       "metadata": {},
       "output_type": "pyout",
       "prompt_number": 70,
       "text": [
        "0.79012345679012341"
       ]
      }
     ],
     "prompt_number": 70
    },
    {
     "cell_type": "code",
     "collapsed": false,
     "input": [
      "dfcv = df.loc[692:,:]"
     ],
     "language": "python",
     "metadata": {},
     "outputs": [],
     "prompt_number": 65
    },
    {
     "cell_type": "code",
     "collapsed": false,
     "input": [
      "(dfcv.Survived == dfcv.model1preds).astype(int).mean()"
     ],
     "language": "python",
     "metadata": {},
     "outputs": [
      {
       "metadata": {},
       "output_type": "pyout",
       "prompt_number": 69,
       "text": [
        "0.81499999999999995"
       ]
      }
     ],
     "prompt_number": 69
    },
    {
     "cell_type": "code",
     "collapsed": false,
     "input": [
      "dfcvwrong = dfcv[dfcv.Survived != dfcv.model1preds]"
     ],
     "language": "python",
     "metadata": {},
     "outputs": [],
     "prompt_number": 72
    },
    {
     "cell_type": "markdown",
     "metadata": {},
     "source": [
      "At first glance, compared to the entire training set, we were less accurate on the younger, slightly lower fare, few sibling/spouse, but more parent/child population"
     ]
    },
    {
     "cell_type": "markdown",
     "metadata": {},
     "source": [
      "Also, our model was generally more conservative in its survival rate (i.e. more predicted as not survived that actual)"
     ]
    },
    {
     "cell_type": "code",
     "collapsed": false,
     "input": [
      "df.describe()"
     ],
     "language": "python",
     "metadata": {},
     "outputs": [
      {
       "html": [
        "<div style=\"max-height:1000px;max-width:1500px;overflow:auto;\">\n",
        "<table border=\"1\" class=\"dataframe\">\n",
        "  <thead>\n",
        "    <tr style=\"text-align: right;\">\n",
        "      <th></th>\n",
        "      <th>Survived</th>\n",
        "      <th>Pclass</th>\n",
        "      <th>Age</th>\n",
        "      <th>SibSp</th>\n",
        "      <th>Parch</th>\n",
        "      <th>Fare</th>\n",
        "      <th>model1preds</th>\n",
        "    </tr>\n",
        "  </thead>\n",
        "  <tbody>\n",
        "    <tr>\n",
        "      <th>count</th>\n",
        "      <td> 891.000000</td>\n",
        "      <td> 891.000000</td>\n",
        "      <td> 714.000000</td>\n",
        "      <td> 891.000000</td>\n",
        "      <td> 891.000000</td>\n",
        "      <td> 891.000000</td>\n",
        "      <td> 891.000000</td>\n",
        "    </tr>\n",
        "    <tr>\n",
        "      <th>mean</th>\n",
        "      <td>   0.383838</td>\n",
        "      <td>   2.308642</td>\n",
        "      <td>  29.699118</td>\n",
        "      <td>   0.523008</td>\n",
        "      <td>   0.381594</td>\n",
        "      <td>  32.204208</td>\n",
        "      <td>   0.364759</td>\n",
        "    </tr>\n",
        "    <tr>\n",
        "      <th>std</th>\n",
        "      <td>   0.486592</td>\n",
        "      <td>   0.836071</td>\n",
        "      <td>  14.526497</td>\n",
        "      <td>   1.102743</td>\n",
        "      <td>   0.806057</td>\n",
        "      <td>  49.693429</td>\n",
        "      <td>   0.481633</td>\n",
        "    </tr>\n",
        "    <tr>\n",
        "      <th>min</th>\n",
        "      <td>   0.000000</td>\n",
        "      <td>   1.000000</td>\n",
        "      <td>   0.420000</td>\n",
        "      <td>   0.000000</td>\n",
        "      <td>   0.000000</td>\n",
        "      <td>   0.000000</td>\n",
        "      <td>   0.000000</td>\n",
        "    </tr>\n",
        "    <tr>\n",
        "      <th>25%</th>\n",
        "      <td>   0.000000</td>\n",
        "      <td>   2.000000</td>\n",
        "      <td>  20.125000</td>\n",
        "      <td>   0.000000</td>\n",
        "      <td>   0.000000</td>\n",
        "      <td>   7.910400</td>\n",
        "      <td>   0.000000</td>\n",
        "    </tr>\n",
        "    <tr>\n",
        "      <th>50%</th>\n",
        "      <td>   0.000000</td>\n",
        "      <td>   3.000000</td>\n",
        "      <td>  28.000000</td>\n",
        "      <td>   0.000000</td>\n",
        "      <td>   0.000000</td>\n",
        "      <td>  14.454200</td>\n",
        "      <td>   0.000000</td>\n",
        "    </tr>\n",
        "    <tr>\n",
        "      <th>75%</th>\n",
        "      <td>   1.000000</td>\n",
        "      <td>   3.000000</td>\n",
        "      <td>  38.000000</td>\n",
        "      <td>   1.000000</td>\n",
        "      <td>   0.000000</td>\n",
        "      <td>  31.000000</td>\n",
        "      <td>   1.000000</td>\n",
        "    </tr>\n",
        "    <tr>\n",
        "      <th>max</th>\n",
        "      <td>   1.000000</td>\n",
        "      <td>   3.000000</td>\n",
        "      <td>  80.000000</td>\n",
        "      <td>   8.000000</td>\n",
        "      <td>   6.000000</td>\n",
        "      <td> 512.329200</td>\n",
        "      <td>   1.000000</td>\n",
        "    </tr>\n",
        "  </tbody>\n",
        "</table>\n",
        "</div>"
       ],
       "metadata": {},
       "output_type": "pyout",
       "prompt_number": 83,
       "text": [
        "         Survived      Pclass         Age       SibSp       Parch        Fare  \\\n",
        "count  891.000000  891.000000  714.000000  891.000000  891.000000  891.000000   \n",
        "mean     0.383838    2.308642   29.699118    0.523008    0.381594   32.204208   \n",
        "std      0.486592    0.836071   14.526497    1.102743    0.806057   49.693429   \n",
        "min      0.000000    1.000000    0.420000    0.000000    0.000000    0.000000   \n",
        "25%      0.000000    2.000000   20.125000    0.000000    0.000000    7.910400   \n",
        "50%      0.000000    3.000000   28.000000    0.000000    0.000000   14.454200   \n",
        "75%      1.000000    3.000000   38.000000    1.000000    0.000000   31.000000   \n",
        "max      1.000000    3.000000   80.000000    8.000000    6.000000  512.329200   \n",
        "\n",
        "       model1preds  \n",
        "count   891.000000  \n",
        "mean      0.364759  \n",
        "std       0.481633  \n",
        "min       0.000000  \n",
        "25%       0.000000  \n",
        "50%       0.000000  \n",
        "75%       1.000000  \n",
        "max       1.000000  "
       ]
      }
     ],
     "prompt_number": 83
    },
    {
     "cell_type": "code",
     "collapsed": false,
     "input": [
      "dfcvwrong.describe()"
     ],
     "language": "python",
     "metadata": {},
     "outputs": [
      {
       "html": [
        "<div style=\"max-height:1000px;max-width:1500px;overflow:auto;\">\n",
        "<table border=\"1\" class=\"dataframe\">\n",
        "  <thead>\n",
        "    <tr style=\"text-align: right;\">\n",
        "      <th></th>\n",
        "      <th>Survived</th>\n",
        "      <th>Pclass</th>\n",
        "      <th>Age</th>\n",
        "      <th>SibSp</th>\n",
        "      <th>Parch</th>\n",
        "      <th>Fare</th>\n",
        "      <th>model1preds</th>\n",
        "    </tr>\n",
        "  </thead>\n",
        "  <tbody>\n",
        "    <tr>\n",
        "      <th>count</th>\n",
        "      <td> 37.000000</td>\n",
        "      <td> 37.000000</td>\n",
        "      <td> 29.000000</td>\n",
        "      <td> 37.000000</td>\n",
        "      <td> 37.000000</td>\n",
        "      <td>  37.000000</td>\n",
        "      <td> 37.000000</td>\n",
        "    </tr>\n",
        "    <tr>\n",
        "      <th>mean</th>\n",
        "      <td>  0.567568</td>\n",
        "      <td>  2.324324</td>\n",
        "      <td> 23.462759</td>\n",
        "      <td>  0.351351</td>\n",
        "      <td>  0.594595</td>\n",
        "      <td>  23.665427</td>\n",
        "      <td>  0.432432</td>\n",
        "    </tr>\n",
        "    <tr>\n",
        "      <th>std</th>\n",
        "      <td>  0.502247</td>\n",
        "      <td>  0.883618</td>\n",
        "      <td> 16.454520</td>\n",
        "      <td>  0.483978</td>\n",
        "      <td>  1.012682</td>\n",
        "      <td>  22.167935</td>\n",
        "      <td>  0.502247</td>\n",
        "    </tr>\n",
        "    <tr>\n",
        "      <th>min</th>\n",
        "      <td>  0.000000</td>\n",
        "      <td>  1.000000</td>\n",
        "      <td>  0.420000</td>\n",
        "      <td>  0.000000</td>\n",
        "      <td>  0.000000</td>\n",
        "      <td>   0.000000</td>\n",
        "      <td>  0.000000</td>\n",
        "    </tr>\n",
        "    <tr>\n",
        "      <th>25%</th>\n",
        "      <td>  0.000000</td>\n",
        "      <td>  1.000000</td>\n",
        "      <td>  9.000000</td>\n",
        "      <td>  0.000000</td>\n",
        "      <td>  0.000000</td>\n",
        "      <td>   8.516700</td>\n",
        "      <td>  0.000000</td>\n",
        "    </tr>\n",
        "    <tr>\n",
        "      <th>50%</th>\n",
        "      <td>  1.000000</td>\n",
        "      <td>  3.000000</td>\n",
        "      <td> 25.000000</td>\n",
        "      <td>  0.000000</td>\n",
        "      <td>  0.000000</td>\n",
        "      <td>  15.245800</td>\n",
        "      <td>  0.000000</td>\n",
        "    </tr>\n",
        "    <tr>\n",
        "      <th>75%</th>\n",
        "      <td>  1.000000</td>\n",
        "      <td>  3.000000</td>\n",
        "      <td> 32.000000</td>\n",
        "      <td>  1.000000</td>\n",
        "      <td>  1.000000</td>\n",
        "      <td>  26.550000</td>\n",
        "      <td>  1.000000</td>\n",
        "    </tr>\n",
        "    <tr>\n",
        "      <th>max</th>\n",
        "      <td>  1.000000</td>\n",
        "      <td>  3.000000</td>\n",
        "      <td> 57.000000</td>\n",
        "      <td>  1.000000</td>\n",
        "      <td>  5.000000</td>\n",
        "      <td> 120.000000</td>\n",
        "      <td>  1.000000</td>\n",
        "    </tr>\n",
        "  </tbody>\n",
        "</table>\n",
        "</div>"
       ],
       "metadata": {},
       "output_type": "pyout",
       "prompt_number": 76,
       "text": [
        "        Survived     Pclass        Age      SibSp      Parch        Fare  \\\n",
        "count  37.000000  37.000000  29.000000  37.000000  37.000000   37.000000   \n",
        "mean    0.567568   2.324324  23.462759   0.351351   0.594595   23.665427   \n",
        "std     0.502247   0.883618  16.454520   0.483978   1.012682   22.167935   \n",
        "min     0.000000   1.000000   0.420000   0.000000   0.000000    0.000000   \n",
        "25%     0.000000   1.000000   9.000000   0.000000   0.000000    8.516700   \n",
        "50%     1.000000   3.000000  25.000000   0.000000   0.000000   15.245800   \n",
        "75%     1.000000   3.000000  32.000000   1.000000   1.000000   26.550000   \n",
        "max     1.000000   3.000000  57.000000   1.000000   5.000000  120.000000   \n",
        "\n",
        "       model1preds  \n",
        "count    37.000000  \n",
        "mean      0.432432  \n",
        "std       0.502247  \n",
        "min       0.000000  \n",
        "25%       0.000000  \n",
        "50%       0.000000  \n",
        "75%       1.000000  \n",
        "max       1.000000  "
       ]
      }
     ],
     "prompt_number": 76
    },
    {
     "cell_type": "code",
     "collapsed": false,
     "input": [
      "df.describe(include=['O'])"
     ],
     "language": "python",
     "metadata": {},
     "outputs": [
      {
       "html": [
        "<div style=\"max-height:1000px;max-width:1500px;overflow:auto;\">\n",
        "<table border=\"1\" class=\"dataframe\">\n",
        "  <thead>\n",
        "    <tr style=\"text-align: right;\">\n",
        "      <th></th>\n",
        "      <th>Name</th>\n",
        "      <th>Sex</th>\n",
        "      <th>Ticket</th>\n",
        "      <th>Cabin</th>\n",
        "      <th>Embarked</th>\n",
        "    </tr>\n",
        "  </thead>\n",
        "  <tbody>\n",
        "    <tr>\n",
        "      <th>count</th>\n",
        "      <td>                       891</td>\n",
        "      <td>  891</td>\n",
        "      <td>      891</td>\n",
        "      <td>         204</td>\n",
        "      <td> 889</td>\n",
        "    </tr>\n",
        "    <tr>\n",
        "      <th>unique</th>\n",
        "      <td>                       891</td>\n",
        "      <td>    2</td>\n",
        "      <td>      681</td>\n",
        "      <td>         147</td>\n",
        "      <td>   3</td>\n",
        "    </tr>\n",
        "    <tr>\n",
        "      <th>top</th>\n",
        "      <td> Graham, Mr. George Edward</td>\n",
        "      <td> male</td>\n",
        "      <td> CA. 2343</td>\n",
        "      <td> C23 C25 C27</td>\n",
        "      <td>   S</td>\n",
        "    </tr>\n",
        "    <tr>\n",
        "      <th>freq</th>\n",
        "      <td>                         1</td>\n",
        "      <td>  577</td>\n",
        "      <td>        7</td>\n",
        "      <td>           4</td>\n",
        "      <td> 644</td>\n",
        "    </tr>\n",
        "  </tbody>\n",
        "</table>\n",
        "</div>"
       ],
       "metadata": {},
       "output_type": "pyout",
       "prompt_number": 84,
       "text": [
        "                             Name   Sex    Ticket        Cabin Embarked\n",
        "count                         891   891       891          204      889\n",
        "unique                        891     2       681          147        3\n",
        "top     Graham, Mr. George Edward  male  CA. 2343  C23 C25 C27        S\n",
        "freq                            1   577         7            4      644"
       ]
      }
     ],
     "prompt_number": 84
    },
    {
     "cell_type": "code",
     "collapsed": false,
     "input": [
      "dfcvwrong.describe(include=['O'])"
     ],
     "language": "python",
     "metadata": {},
     "outputs": [
      {
       "html": [
        "<div style=\"max-height:1000px;max-width:1500px;overflow:auto;\">\n",
        "<table border=\"1\" class=\"dataframe\">\n",
        "  <thead>\n",
        "    <tr style=\"text-align: right;\">\n",
        "      <th></th>\n",
        "      <th>Name</th>\n",
        "      <th>Sex</th>\n",
        "      <th>Ticket</th>\n",
        "      <th>Cabin</th>\n",
        "      <th>Embarked</th>\n",
        "    </tr>\n",
        "  </thead>\n",
        "  <tbody>\n",
        "    <tr>\n",
        "      <th>count</th>\n",
        "      <td>                        37</td>\n",
        "      <td>   37</td>\n",
        "      <td>   37</td>\n",
        "      <td>  10</td>\n",
        "      <td> 37</td>\n",
        "    </tr>\n",
        "    <tr>\n",
        "      <th>unique</th>\n",
        "      <td>                        37</td>\n",
        "      <td>    2</td>\n",
        "      <td>   36</td>\n",
        "      <td>   9</td>\n",
        "      <td>  3</td>\n",
        "    </tr>\n",
        "    <tr>\n",
        "      <th>top</th>\n",
        "      <td> Hamalainen, Master. Viljo</td>\n",
        "      <td> male</td>\n",
        "      <td> 1601</td>\n",
        "      <td> E24</td>\n",
        "      <td>  S</td>\n",
        "    </tr>\n",
        "    <tr>\n",
        "      <th>freq</th>\n",
        "      <td>                         1</td>\n",
        "      <td>   25</td>\n",
        "      <td>    2</td>\n",
        "      <td>   2</td>\n",
        "      <td> 26</td>\n",
        "    </tr>\n",
        "  </tbody>\n",
        "</table>\n",
        "</div>"
       ],
       "metadata": {},
       "output_type": "pyout",
       "prompt_number": 80,
       "text": [
        "                             Name   Sex Ticket Cabin Embarked\n",
        "count                          37    37     37    10       37\n",
        "unique                         37     2     36     9        3\n",
        "top     Hamalainen, Master. Viljo  male   1601   E24        S\n",
        "freq                            1    25      2     2       26"
       ]
      }
     ],
     "prompt_number": 80
    },
    {
     "cell_type": "markdown",
     "metadata": {},
     "source": [
      "Males that survived and females that didn't survive posed trouble"
     ]
    },
    {
     "cell_type": "markdown",
     "metadata": {},
     "source": [
      "Missing age doesn't seem to be very important"
     ]
    },
    {
     "cell_type": "code",
     "collapsed": false,
     "input": [
      "df.info()\n",
      "714.0 / 891"
     ],
     "language": "python",
     "metadata": {},
     "outputs": [
      {
       "output_type": "stream",
       "stream": "stdout",
       "text": [
        "<class 'pandas.core.frame.DataFrame'>\n",
        "Int64Index: 891 entries, 1 to 891\n",
        "Data columns (total 12 columns):\n",
        "Survived       891 non-null int64\n",
        "Pclass         891 non-null int64\n",
        "Name           891 non-null object\n",
        "Sex            891 non-null object\n",
        "Age            714 non-null float64\n",
        "SibSp          891 non-null int64\n",
        "Parch          891 non-null int64\n",
        "Ticket         891 non-null object\n",
        "Fare           891 non-null float64\n",
        "Cabin          204 non-null object\n",
        "Embarked       889 non-null object\n",
        "model1preds    891 non-null int64\n",
        "dtypes: float64(2), int64(5), object(5)\n",
        "memory usage: 90.5+ KB\n"
       ]
      },
      {
       "metadata": {},
       "output_type": "pyout",
       "prompt_number": 90,
       "text": [
        "0.8013468013468014"
       ]
      }
     ],
     "prompt_number": 90
    },
    {
     "cell_type": "code",
     "collapsed": false,
     "input": [
      "dfcvwrong.info()\n",
      "29.0 / 37"
     ],
     "language": "python",
     "metadata": {},
     "outputs": [
      {
       "output_type": "stream",
       "stream": "stdout",
       "text": [
        "<class 'pandas.core.frame.DataFrame'>\n",
        "Int64Index: 37 entries, 693 to 889\n",
        "Data columns (total 12 columns):\n",
        "Survived       37 non-null int64\n",
        "Pclass         37 non-null int64\n",
        "Name           37 non-null object\n",
        "Sex            37 non-null object\n",
        "Age            29 non-null float64\n",
        "SibSp          37 non-null int64\n",
        "Parch          37 non-null int64\n",
        "Ticket         37 non-null object\n",
        "Fare           37 non-null float64\n",
        "Cabin          10 non-null object\n",
        "Embarked       37 non-null object\n",
        "model1preds    37 non-null int64\n",
        "dtypes: float64(2), int64(5), object(5)\n",
        "memory usage: 3.8+ KB\n"
       ]
      },
      {
       "metadata": {},
       "output_type": "pyout",
       "prompt_number": 91,
       "text": [
        "0.7837837837837838"
       ]
      }
     ],
     "prompt_number": 91
    },
    {
     "cell_type": "markdown",
     "metadata": {},
     "source": [
      "PClass: did better on 2nd class and worse on both 1st and 3rd class"
     ]
    },
    {
     "cell_type": "code",
     "collapsed": false,
     "input": [
      "dfcvwrong.Pclass.value_counts().sort_index() / 37.0"
     ],
     "language": "python",
     "metadata": {},
     "outputs": [
      {
       "metadata": {},
       "output_type": "pyout",
       "prompt_number": 101,
       "text": [
        "1    0.270270\n",
        "2    0.135135\n",
        "3    0.594595\n",
        "dtype: float64"
       ]
      }
     ],
     "prompt_number": 101
    },
    {
     "cell_type": "code",
     "collapsed": false,
     "input": [
      "df.Pclass.value_counts().sort_index() / 891.0"
     ],
     "language": "python",
     "metadata": {},
     "outputs": [
      {
       "metadata": {},
       "output_type": "pyout",
       "prompt_number": 102,
       "text": [
        "1    0.242424\n",
        "2    0.206510\n",
        "3    0.551066\n",
        "dtype: float64"
       ]
      }
     ],
     "prompt_number": 102
    },
    {
     "cell_type": "markdown",
     "metadata": {},
     "source": [
      "SibSp: looks like just those with 0 or 1 SibSp were troublesome, especially if 1 (likely spouse?)"
     ]
    },
    {
     "cell_type": "code",
     "collapsed": false,
     "input": [
      "dfcvwrong.SibSp.value_counts() / 37.0"
     ],
     "language": "python",
     "metadata": {},
     "outputs": [
      {
       "metadata": {},
       "output_type": "pyout",
       "prompt_number": 107,
       "text": [
        "0    0.648649\n",
        "1    0.351351\n",
        "dtype: float64"
       ]
      }
     ],
     "prompt_number": 107
    },
    {
     "cell_type": "code",
     "collapsed": false,
     "input": [
      "df.SibSp.value_counts() / 891.0"
     ],
     "language": "python",
     "metadata": {},
     "outputs": [
      {
       "metadata": {},
       "output_type": "pyout",
       "prompt_number": 106,
       "text": [
        "0    0.682379\n",
        "1    0.234568\n",
        "2    0.031425\n",
        "4    0.020202\n",
        "3    0.017957\n",
        "8    0.007856\n",
        "5    0.005612\n",
        "dtype: float64"
       ]
      }
     ],
     "prompt_number": 106
    },
    {
     "cell_type": "markdown",
     "metadata": {},
     "source": [
      "Parch: again the main troublesome category is if 1 Parch"
     ]
    },
    {
     "cell_type": "code",
     "collapsed": false,
     "input": [
      "dfcvwrong.Parch.value_counts() / 37.0"
     ],
     "language": "python",
     "metadata": {},
     "outputs": [
      {
       "metadata": {},
       "output_type": "pyout",
       "prompt_number": 110,
       "text": [
        "0    0.621622\n",
        "1    0.243243\n",
        "2    0.108108\n",
        "5    0.027027\n",
        "dtype: float64"
       ]
      }
     ],
     "prompt_number": 110
    },
    {
     "cell_type": "code",
     "collapsed": false,
     "input": [
      "df.Parch.value_counts().sort_index() / 891.0"
     ],
     "language": "python",
     "metadata": {},
     "outputs": [
      {
       "metadata": {},
       "output_type": "pyout",
       "prompt_number": 111,
       "text": [
        "0    0.760943\n",
        "1    0.132435\n",
        "2    0.089787\n",
        "3    0.005612\n",
        "4    0.004489\n",
        "5    0.005612\n",
        "6    0.001122\n",
        "dtype: float64"
       ]
      }
     ],
     "prompt_number": 111
    },
    {
     "cell_type": "markdown",
     "metadata": {},
     "source": [
      "Fare: Actually they look generally the same between the two sets... maybe got all out if that I could"
     ]
    },
    {
     "cell_type": "code",
     "collapsed": false,
     "input": [
      "dfcvwrong.Fare.hist(bins=10,range=(0,60),alpha=0.5)\n",
      "plt.show()"
     ],
     "language": "python",
     "metadata": {},
     "outputs": [
      {
       "metadata": {},
       "output_type": "display_data",
       "png": "[encoded data removed]",
       "text": [
        "<matplotlib.figure.Figure at 0x103406f50>"
       ]
      }
     ],
     "prompt_number": 119
    },
    {
     "cell_type": "code",
     "collapsed": false,
     "input": [
      "df.Fare.hist(bins=10,range=(0,60),alpha=0.5)#automatically ignores nan\n",
      "plt.show()"
     ],
     "language": "python",
     "metadata": {},
     "outputs": [
      {
       "metadata": {},
       "output_type": "display_data",
       "png": "[encoded data removed]",
       "text": [
        "<matplotlib.figure.Figure at 0x10727c650>"
       ]
      }
     ],
     "prompt_number": 120
    },
    {
     "cell_type": "markdown",
     "metadata": {},
     "source": [
      "Maybe its in the names..."
     ]
    },
    {
     "cell_type": "markdown",
     "metadata": {},
     "source": [
      "'Masters' - honorary term for boys and young men"
     ]
    },
    {
     "cell_type": "code",
     "collapsed": false,
     "input": [
      "dfcvwrong[(dfcvwrong['Sex'] == 'male') & (dfcvwrong['Survived'] == 1)].Name.apply(lambda x : 'Master' in x).astype(int).mean()"
     ],
     "language": "python",
     "metadata": {},
     "outputs": [
      {
       "metadata": {},
       "output_type": "pyout",
       "prompt_number": 131,
       "text": [
        "0.42857142857142855"
       ]
      }
     ],
     "prompt_number": 131
    },
    {
     "cell_type": "code",
     "collapsed": false,
     "input": [
      "df[(df['Sex'] == 'male') & (df['Survived'] == 1)].Name.apply(lambda x : 'Master' in x).astype(int).mean()"
     ],
     "language": "python",
     "metadata": {},
     "outputs": [
      {
       "metadata": {},
       "output_type": "pyout",
       "prompt_number": 132,
       "text": [
        "0.21100917431192662"
       ]
      }
     ],
     "prompt_number": 132
    },
    {
     "cell_type": "markdown",
     "metadata": {},
     "source": [
      "Nothing missed in the 'Miss' category - nor the married women (i.e. with '(pre-marraige)' names)"
     ]
    },
    {
     "cell_type": "code",
     "collapsed": false,
     "input": [
      "dfcvwrong[(dfcvwrong['Sex'] == 'female') & (dfcvwrong['Survived'] == 0)].Name"
     ],
     "language": "python",
     "metadata": {},
     "outputs": [
      {
       "metadata": {},
       "output_type": "pyout",
       "prompt_number": 136,
       "text": [
        "PassengerId\n",
        "703                                        Barbara, Miss. Saiide\n",
        "730                                Ilmakangas, Miss. Pieta Sofia\n",
        "768                                           Mangan, Miss. Mary\n",
        "773                                            Mack, Mrs. (Mary)\n",
        "800            Van Impe, Mrs. Jean Baptiste (Rosalie Paula Go...\n",
        "808                              Pettersson, Miss. Ellen Natalia\n",
        "817                                 Heininen, Miss. Wendla Maria\n",
        "853                                      Boulos, Miss. Nourelain\n",
        "855                Carter, Mrs. Ernest Courtenay (Lilian Hughes)\n",
        "883                                 Dahlberg, Miss. Gerda Ulrika\n",
        "886                         Rice, Mrs. William (Margaret Norton)\n",
        "889                     Johnston, Miss. Catherine Helen \"Carrie\"\n",
        "Name: Name, dtype: object"
       ]
      }
     ],
     "prompt_number": 136
    },
    {
     "cell_type": "code",
     "collapsed": false,
     "input": [
      "dfcvwrong[(dfcvwrong['Sex'] == 'female') & (dfcvwrong['Survived'] == 0)].Name.apply(lambda x : 'Miss' in x).astype(int).mean()"
     ],
     "language": "python",
     "metadata": {},
     "outputs": [
      {
       "metadata": {},
       "output_type": "pyout",
       "prompt_number": 134,
       "text": [
        "0.66666666666666663"
       ]
      }
     ],
     "prompt_number": 134
    },
    {
     "cell_type": "code",
     "collapsed": false,
     "input": [
      "df[(df['Sex'] == 'female') & (df['Survived'] == 0)].Name.apply(lambda x : 'Miss' in x).astype(int).mean()"
     ],
     "language": "python",
     "metadata": {},
     "outputs": [
      {
       "metadata": {},
       "output_type": "pyout",
       "prompt_number": 135,
       "text": [
        "0.67901234567901236"
       ]
      }
     ],
     "prompt_number": 135
    },
    {
     "cell_type": "code",
     "collapsed": false,
     "input": [
      "dfcvwrong[(dfcvwrong['Sex'] == 'female') & (dfcvwrong['Survived'] == 0)].Name.apply(lambda x : '(' in x).astype(int).mean()"
     ],
     "language": "python",
     "metadata": {},
     "outputs": [
      {
       "metadata": {},
       "output_type": "pyout",
       "prompt_number": 137,
       "text": [
        "0.33333333333333331"
       ]
      }
     ],
     "prompt_number": 137
    },
    {
     "cell_type": "code",
     "collapsed": false,
     "input": [
      "df[(df['Sex'] == 'female') & (df['Survived'] == 0)].Name.apply(lambda x : '(' in x).astype(int).mean()"
     ],
     "language": "python",
     "metadata": {},
     "outputs": [
      {
       "metadata": {},
       "output_type": "pyout",
       "prompt_number": 138,
       "text": [
        "0.34567901234567899"
       ]
      }
     ],
     "prompt_number": 138
    },
    {
     "cell_type": "code",
     "collapsed": false,
     "input": [],
     "language": "python",
     "metadata": {},
     "outputs": []
    }
   ],
   "metadata": {}
  }
 ]
}