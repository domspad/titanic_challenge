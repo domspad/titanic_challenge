{
 "metadata": {
  "name": ""
 },
 "nbformat": 3,
 "nbformat_minor": 0,
 "worksheets": [
  {
   "cells": [
    {
     "cell_type": "markdown",
     "metadata": {},
     "source": [
      "This notebook generates the data for the first model - simply run all the cells"
     ]
    },
    {
     "cell_type": "code",
     "collapsed": false,
     "input": [
      "%matplotlib inline\n",
      "import matplotlib.pyplot as plt\n",
      "import numpy as np\n",
      "import pandas as pd"
     ],
     "language": "python",
     "metadata": {},
     "outputs": [],
     "prompt_number": 1
    },
    {
     "cell_type": "heading",
     "level": 1,
     "metadata": {},
     "source": [
      "Load data"
     ]
    },
    {
     "cell_type": "code",
     "collapsed": false,
     "input": [
      "datafile = \"/Users/dominicspadacene/Desktop/github_projects/titanic_challenge/data/full.csv\"\n",
      "train_cv_outfile = \"/Users/dominicspadacene/Desktop/github_projects/titanic_challenge/data/train1.csv\"\n",
      "test_outfile = \"/Users/dominicspadacene/Desktop/github_projects/titanic_challenge/data/test1.csv\"\n",
      "boundary_index = 891 #where test data starts"
     ],
     "language": "python",
     "metadata": {},
     "outputs": [],
     "prompt_number": 19
    },
    {
     "cell_type": "code",
     "collapsed": false,
     "input": [
      "df = pd.read_csv(datafile, index_col='PassengerId')\n",
      "df.shape"
     ],
     "language": "python",
     "metadata": {},
     "outputs": [
      {
       "metadata": {},
       "output_type": "pyout",
       "prompt_number": 5,
       "text": [
        "(1309, 11)"
       ]
      }
     ],
     "prompt_number": 5
    },
    {
     "cell_type": "code",
     "collapsed": false,
     "input": [
      "df.info()"
     ],
     "language": "python",
     "metadata": {},
     "outputs": [
      {
       "output_type": "stream",
       "stream": "stdout",
       "text": [
        "<class 'pandas.core.frame.DataFrame'>\n",
        "Int64Index: 1309 entries, 1 to 1309\n",
        "Data columns (total 11 columns):\n",
        "Survived    1309 non-null int64\n",
        "Pclass      1309 non-null int64\n",
        "Name        1309 non-null object\n",
        "Sex         1309 non-null object\n",
        "Age         1046 non-null float64\n",
        "SibSp       1309 non-null int64\n",
        "Parch       1309 non-null int64\n",
        "Ticket      1309 non-null object\n",
        "Fare        1308 non-null float64\n",
        "Cabin       295 non-null object\n",
        "Embarked    1307 non-null object\n",
        "dtypes: float64(2), int64(4), object(5)\n",
        "memory usage: 122.7+ KB\n"
       ]
      }
     ],
     "prompt_number": 6
    },
    {
     "cell_type": "heading",
     "level": 1,
     "metadata": {},
     "source": [
      "Clean Data"
     ]
    },
    {
     "cell_type": "code",
     "collapsed": false,
     "input": [
      "df['Sex'] = df.Sex.map({'male': 0,'female' : 1})\n",
      "\n",
      "df.Age.fillna(0, inplace=True)\n",
      "\n",
      "portdf = pd.get_dummies(df.Embarked,prefix='port')\n",
      "df = pd.merge(df,portdf,left_index=True,right_index=True)"
     ],
     "language": "python",
     "metadata": {},
     "outputs": [],
     "prompt_number": 7
    },
    {
     "cell_type": "heading",
     "level": 1,
     "metadata": {},
     "source": [
      "Drop unnecessary columns"
     ]
    },
    {
     "cell_type": "code",
     "collapsed": false,
     "input": [
      "df = df[['Sex','Pclass','Age','SibSp','Parch','Fare','port_C','port_Q','port_S','Survived']]\n",
      "df.info()"
     ],
     "language": "python",
     "metadata": {},
     "outputs": [
      {
       "output_type": "stream",
       "stream": "stdout",
       "text": [
        "<class 'pandas.core.frame.DataFrame'>\n",
        "Int64Index: 1309 entries, 1 to 1309\n",
        "Data columns (total 10 columns):\n",
        "Sex         1309 non-null int64\n",
        "Pclass      1309 non-null int64\n",
        "Age         1309 non-null float64\n",
        "SibSp       1309 non-null int64\n",
        "Parch       1309 non-null int64\n",
        "Fare        1308 non-null float64\n",
        "port_C      1309 non-null float64\n",
        "port_Q      1309 non-null float64\n",
        "port_S      1309 non-null float64\n",
        "Survived    1309 non-null int64\n",
        "dtypes: float64(5), int64(5)\n",
        "memory usage: 112.5 KB\n"
       ]
      }
     ],
     "prompt_number": 11
    },
    {
     "cell_type": "heading",
     "level": 1,
     "metadata": {},
     "source": [
      "Scale features as necessary"
     ]
    },
    {
     "cell_type": "heading",
     "level": 1,
     "metadata": {},
     "source": [
      "Write out files"
     ]
    },
    {
     "cell_type": "code",
     "collapsed": false,
     "input": [
      "df.loc[:boundary_index,:].to_csv(train_cv_outfile, index=False, header=True, na_rep=0) #one nan in the Fares\n",
      "df.loc[boundary_index:,:].to_csv(test_outfile, index=False,header=True, na_rep=0)"
     ],
     "language": "python",
     "metadata": {},
     "outputs": [],
     "prompt_number": 20
    },
    {
     "cell_type": "code",
     "collapsed": false,
     "input": [],
     "language": "python",
     "metadata": {},
     "outputs": []
    }
   ],
   "metadata": {}
  }
 ]
}