{
 "metadata": {
  "name": ""
 },
 "nbformat": 3,
 "nbformat_minor": 0,
 "worksheets": [
  {
   "cells": [
    {
     "cell_type": "code",
     "collapsed": false,
     "input": [
      "%matplotlib inline\n",
      "import matplotlib.pyplot as plt\n",
      "import numpy as np\n",
      "import pandas as pd\n"
     ],
     "language": "python",
     "metadata": {},
     "outputs": [],
     "prompt_number": 12
    },
    {
     "cell_type": "heading",
     "level": 1,
     "metadata": {},
     "source": [
      "First data cleaning for simple algorithm (logistic regression)\n"
     ]
    },
    {
     "cell_type": "markdown",
     "metadata": {},
     "source": [
      "Note: to generate 'test' data files from this process: \n",
      "\n",
      "    1) Run through with train data UP TO the mu and sigma generation for feature scaling\n",
      "    2) Run through with test data SKIPPING the mu and sigma generation (must use training mu/sigmas) and then writing out file"
     ]
    },
    {
     "cell_type": "raw",
     "metadata": {},
     "source": [
      "make relevant categorical variables binary vectors or ordered ints"
     ]
    },
    {
     "cell_type": "code",
     "collapsed": false,
     "input": [
      "!cd ..; cd data; pwd; ls"
     ],
     "language": "python",
     "metadata": {},
     "outputs": [
      {
       "output_type": "stream",
       "stream": "stdout",
       "text": [
        "/Users/dominicspadacene/Desktop/coursera_ml/titanic_challenge/data\r\n",
        "data_notes test.csv   train.csv  train1.csv train2.csv train3.csv\r\n"
       ]
      }
     ],
     "prompt_number": 185
    },
    {
     "cell_type": "code",
     "collapsed": false,
     "input": [
      "trainfile = \"/Users/dominicspadacene/Desktop/coursera_ml/titanic_challenge/data/train.csv\"\n",
      "outfile = \"/Users/dominicspadacene/Desktop/coursera_ml/titanic_challenge/data/train1.csv\"\n",
      "outfile_octave = \"/Users/dominicspadacene/Desktop/coursera_ml/titanic_challenge/octave_files/train1.txt\"\n"
     ],
     "language": "python",
     "metadata": {},
     "outputs": [],
     "prompt_number": 203
    },
    {
     "cell_type": "code",
     "collapsed": false,
     "input": [
      "df = pd.read_csv(trainfile,index_col='PassengerId')"
     ],
     "language": "python",
     "metadata": {},
     "outputs": [],
     "prompt_number": 204
    },
    {
     "cell_type": "code",
     "collapsed": false,
     "input": [
      "df.head(3)"
     ],
     "language": "python",
     "metadata": {},
     "outputs": [
      {
       "html": [
        "<div style=\"max-height:1000px;max-width:1500px;overflow:auto;\">\n",
        "<table border=\"1\" class=\"dataframe\">\n",
        "  <thead>\n",
        "    <tr style=\"text-align: right;\">\n",
        "      <th></th>\n",
        "      <th>Pclass</th>\n",
        "      <th>Name</th>\n",
        "      <th>Sex</th>\n",
        "      <th>Age</th>\n",
        "      <th>SibSp</th>\n",
        "      <th>Parch</th>\n",
        "      <th>Ticket</th>\n",
        "      <th>Fare</th>\n",
        "      <th>Cabin</th>\n",
        "      <th>Embarked</th>\n",
        "    </tr>\n",
        "    <tr>\n",
        "      <th>PassengerId</th>\n",
        "      <th></th>\n",
        "      <th></th>\n",
        "      <th></th>\n",
        "      <th></th>\n",
        "      <th></th>\n",
        "      <th></th>\n",
        "      <th></th>\n",
        "      <th></th>\n",
        "      <th></th>\n",
        "      <th></th>\n",
        "    </tr>\n",
        "  </thead>\n",
        "  <tbody>\n",
        "    <tr>\n",
        "      <th>892</th>\n",
        "      <td> 3</td>\n",
        "      <td>                 Kelly, Mr. James</td>\n",
        "      <td>   male</td>\n",
        "      <td> 34.5</td>\n",
        "      <td> 0</td>\n",
        "      <td> 0</td>\n",
        "      <td> 330911</td>\n",
        "      <td> 7.8292</td>\n",
        "      <td> NaN</td>\n",
        "      <td> Q</td>\n",
        "    </tr>\n",
        "    <tr>\n",
        "      <th>893</th>\n",
        "      <td> 3</td>\n",
        "      <td> Wilkes, Mrs. James (Ellen Needs)</td>\n",
        "      <td> female</td>\n",
        "      <td> 47.0</td>\n",
        "      <td> 1</td>\n",
        "      <td> 0</td>\n",
        "      <td> 363272</td>\n",
        "      <td> 7.0000</td>\n",
        "      <td> NaN</td>\n",
        "      <td> S</td>\n",
        "    </tr>\n",
        "    <tr>\n",
        "      <th>894</th>\n",
        "      <td> 2</td>\n",
        "      <td>        Myles, Mr. Thomas Francis</td>\n",
        "      <td>   male</td>\n",
        "      <td> 62.0</td>\n",
        "      <td> 0</td>\n",
        "      <td> 0</td>\n",
        "      <td> 240276</td>\n",
        "      <td> 9.6875</td>\n",
        "      <td> NaN</td>\n",
        "      <td> Q</td>\n",
        "    </tr>\n",
        "  </tbody>\n",
        "</table>\n",
        "</div>"
       ],
       "metadata": {},
       "output_type": "pyout",
       "prompt_number": 205,
       "text": [
        "             Pclass                              Name     Sex   Age  SibSp  \\\n",
        "PassengerId                                                                  \n",
        "892               3                  Kelly, Mr. James    male  34.5      0   \n",
        "893               3  Wilkes, Mrs. James (Ellen Needs)  female  47.0      1   \n",
        "894               2         Myles, Mr. Thomas Francis    male  62.0      0   \n",
        "\n",
        "             Parch  Ticket    Fare Cabin Embarked  \n",
        "PassengerId                                        \n",
        "892              0  330911  7.8292   NaN        Q  \n",
        "893              0  363272  7.0000   NaN        S  \n",
        "894              0  240276  9.6875   NaN        Q  "
       ]
      }
     ],
     "prompt_number": 205
    },
    {
     "cell_type": "code",
     "collapsed": false,
     "input": [
      "df.info()"
     ],
     "language": "python",
     "metadata": {},
     "outputs": [
      {
       "output_type": "stream",
       "stream": "stdout",
       "text": [
        "<class 'pandas.core.frame.DataFrame'>\n",
        "Int64Index: 418 entries, 892 to 1309\n",
        "Data columns (total 10 columns):\n",
        "Pclass      418 non-null int64\n",
        "Name        418 non-null object\n",
        "Sex         418 non-null object\n",
        "Age         332 non-null float64\n",
        "SibSp       418 non-null int64\n",
        "Parch       418 non-null int64\n",
        "Ticket      418 non-null object\n",
        "Fare        417 non-null float64\n",
        "Cabin       91 non-null object\n",
        "Embarked    418 non-null object\n",
        "dtypes: float64(2), int64(3), object(5)\n",
        "memory usage: 35.9+ KB\n"
       ]
      }
     ],
     "prompt_number": 206
    },
    {
     "cell_type": "code",
     "collapsed": false,
     "input": [
      "df.describe()"
     ],
     "language": "python",
     "metadata": {},
     "outputs": [
      {
       "html": [
        "<div style=\"max-height:1000px;max-width:1500px;overflow:auto;\">\n",
        "<table border=\"1\" class=\"dataframe\">\n",
        "  <thead>\n",
        "    <tr style=\"text-align: right;\">\n",
        "      <th></th>\n",
        "      <th>Pclass</th>\n",
        "      <th>Age</th>\n",
        "      <th>SibSp</th>\n",
        "      <th>Parch</th>\n",
        "      <th>Fare</th>\n",
        "    </tr>\n",
        "  </thead>\n",
        "  <tbody>\n",
        "    <tr>\n",
        "      <th>count</th>\n",
        "      <td> 418.000000</td>\n",
        "      <td> 332.000000</td>\n",
        "      <td> 418.000000</td>\n",
        "      <td> 418.000000</td>\n",
        "      <td> 417.000000</td>\n",
        "    </tr>\n",
        "    <tr>\n",
        "      <th>mean</th>\n",
        "      <td>   2.265550</td>\n",
        "      <td>  30.272590</td>\n",
        "      <td>   0.447368</td>\n",
        "      <td>   0.392344</td>\n",
        "      <td>  35.627188</td>\n",
        "    </tr>\n",
        "    <tr>\n",
        "      <th>std</th>\n",
        "      <td>   0.841838</td>\n",
        "      <td>  14.181209</td>\n",
        "      <td>   0.896760</td>\n",
        "      <td>   0.981429</td>\n",
        "      <td>  55.907576</td>\n",
        "    </tr>\n",
        "    <tr>\n",
        "      <th>min</th>\n",
        "      <td>   1.000000</td>\n",
        "      <td>   0.170000</td>\n",
        "      <td>   0.000000</td>\n",
        "      <td>   0.000000</td>\n",
        "      <td>   0.000000</td>\n",
        "    </tr>\n",
        "    <tr>\n",
        "      <th>25%</th>\n",
        "      <td>   1.000000</td>\n",
        "      <td>  21.000000</td>\n",
        "      <td>   0.000000</td>\n",
        "      <td>   0.000000</td>\n",
        "      <td>   7.895800</td>\n",
        "    </tr>\n",
        "    <tr>\n",
        "      <th>50%</th>\n",
        "      <td>   3.000000</td>\n",
        "      <td>  27.000000</td>\n",
        "      <td>   0.000000</td>\n",
        "      <td>   0.000000</td>\n",
        "      <td>  14.454200</td>\n",
        "    </tr>\n",
        "    <tr>\n",
        "      <th>75%</th>\n",
        "      <td>   3.000000</td>\n",
        "      <td>  39.000000</td>\n",
        "      <td>   1.000000</td>\n",
        "      <td>   0.000000</td>\n",
        "      <td>  31.500000</td>\n",
        "    </tr>\n",
        "    <tr>\n",
        "      <th>max</th>\n",
        "      <td>   3.000000</td>\n",
        "      <td>  76.000000</td>\n",
        "      <td>   8.000000</td>\n",
        "      <td>   9.000000</td>\n",
        "      <td> 512.329200</td>\n",
        "    </tr>\n",
        "  </tbody>\n",
        "</table>\n",
        "</div>"
       ],
       "metadata": {},
       "output_type": "pyout",
       "prompt_number": 207,
       "text": [
        "           Pclass         Age       SibSp       Parch        Fare\n",
        "count  418.000000  332.000000  418.000000  418.000000  417.000000\n",
        "mean     2.265550   30.272590    0.447368    0.392344   35.627188\n",
        "std      0.841838   14.181209    0.896760    0.981429   55.907576\n",
        "min      1.000000    0.170000    0.000000    0.000000    0.000000\n",
        "25%      1.000000   21.000000    0.000000    0.000000    7.895800\n",
        "50%      3.000000   27.000000    0.000000    0.000000   14.454200\n",
        "75%      3.000000   39.000000    1.000000    0.000000   31.500000\n",
        "max      3.000000   76.000000    8.000000    9.000000  512.329200"
       ]
      }
     ],
     "prompt_number": 207
    },
    {
     "cell_type": "code",
     "collapsed": false,
     "input": [
      "# df.loc[62,['C','Q','S']]\n"
     ],
     "language": "python",
     "metadata": {},
     "outputs": [],
     "prompt_number": 208
    },
    {
     "cell_type": "heading",
     "level": 3,
     "metadata": {},
     "source": [
      "Data cleaning"
     ]
    },
    {
     "cell_type": "raw",
     "metadata": {},
     "source": [
      "create new columns for ANY transformation (so original data is always there)"
     ]
    },
    {
     "cell_type": "code",
     "collapsed": false,
     "input": [
      "df['Sex'] = df.Sex.map({'male': 0,\n",
      "                        'female' : 1})"
     ],
     "language": "python",
     "metadata": {},
     "outputs": [],
     "prompt_number": 209
    },
    {
     "cell_type": "code",
     "collapsed": false,
     "input": [
      "df.Age.fillna(0, inplace=True)"
     ],
     "language": "python",
     "metadata": {},
     "outputs": [],
     "prompt_number": 210
    },
    {
     "cell_type": "code",
     "collapsed": false,
     "input": [
      "portdf = pd.get_dummies(df.Embarked,prefix='port')"
     ],
     "language": "python",
     "metadata": {},
     "outputs": [],
     "prompt_number": 211
    },
    {
     "cell_type": "code",
     "collapsed": false,
     "input": [
      "df = pd.merge(df,portdf,left_index=True,right_index=True)"
     ],
     "language": "python",
     "metadata": {},
     "outputs": [],
     "prompt_number": 212
    },
    {
     "cell_type": "code",
     "collapsed": false,
     "input": [
      "newdf = df[['Sex','Pclass','Age','SibSp','Parch','Fare','port_C','port_Q','port_S']]#,'Survived']]"
     ],
     "language": "python",
     "metadata": {},
     "outputs": [],
     "prompt_number": 213
    },
    {
     "cell_type": "code",
     "collapsed": false,
     "input": [
      "newdf.count()"
     ],
     "language": "python",
     "metadata": {},
     "outputs": [
      {
       "metadata": {},
       "output_type": "pyout",
       "prompt_number": 214,
       "text": [
        "Sex       418\n",
        "Pclass    418\n",
        "Age       418\n",
        "SibSp     418\n",
        "Parch     418\n",
        "Fare      417\n",
        "port_C    418\n",
        "port_Q    418\n",
        "port_S    418\n",
        "dtype: int64"
       ]
      }
     ],
     "prompt_number": 214
    },
    {
     "cell_type": "code",
     "collapsed": false,
     "input": [
      "newdf[newdf.Fare.isnull()]"
     ],
     "language": "python",
     "metadata": {},
     "outputs": [
      {
       "html": [
        "<div style=\"max-height:1000px;max-width:1500px;overflow:auto;\">\n",
        "<table border=\"1\" class=\"dataframe\">\n",
        "  <thead>\n",
        "    <tr style=\"text-align: right;\">\n",
        "      <th></th>\n",
        "      <th>Sex</th>\n",
        "      <th>Pclass</th>\n",
        "      <th>Age</th>\n",
        "      <th>SibSp</th>\n",
        "      <th>Parch</th>\n",
        "      <th>Fare</th>\n",
        "      <th>port_C</th>\n",
        "      <th>port_Q</th>\n",
        "      <th>port_S</th>\n",
        "    </tr>\n",
        "    <tr>\n",
        "      <th>PassengerId</th>\n",
        "      <th></th>\n",
        "      <th></th>\n",
        "      <th></th>\n",
        "      <th></th>\n",
        "      <th></th>\n",
        "      <th></th>\n",
        "      <th></th>\n",
        "      <th></th>\n",
        "      <th></th>\n",
        "    </tr>\n",
        "  </thead>\n",
        "  <tbody>\n",
        "    <tr>\n",
        "      <th>1044</th>\n",
        "      <td> 0</td>\n",
        "      <td> 3</td>\n",
        "      <td> 60.5</td>\n",
        "      <td> 0</td>\n",
        "      <td> 0</td>\n",
        "      <td>NaN</td>\n",
        "      <td> 0</td>\n",
        "      <td> 0</td>\n",
        "      <td> 1</td>\n",
        "    </tr>\n",
        "  </tbody>\n",
        "</table>\n",
        "</div>"
       ],
       "metadata": {},
       "output_type": "pyout",
       "prompt_number": 215,
       "text": [
        "             Sex  Pclass   Age  SibSp  Parch  Fare  port_C  port_Q  port_S\n",
        "PassengerId                                                               \n",
        "1044           0       3  60.5      0      0   NaN       0       0       1"
       ]
      }
     ],
     "prompt_number": 215
    },
    {
     "cell_type": "heading",
     "level": 3,
     "metadata": {},
     "source": [
      "Scaling all features"
     ]
    },
    {
     "cell_type": "code",
     "collapsed": false,
     "input": [
      "newdf.head() #just need Age and Fare scaled"
     ],
     "language": "python",
     "metadata": {},
     "outputs": [
      {
       "html": [
        "<div style=\"max-height:1000px;max-width:1500px;overflow:auto;\">\n",
        "<table border=\"1\" class=\"dataframe\">\n",
        "  <thead>\n",
        "    <tr style=\"text-align: right;\">\n",
        "      <th></th>\n",
        "      <th>Sex</th>\n",
        "      <th>Pclass</th>\n",
        "      <th>Age</th>\n",
        "      <th>SibSp</th>\n",
        "      <th>Parch</th>\n",
        "      <th>Fare</th>\n",
        "      <th>port_C</th>\n",
        "      <th>port_Q</th>\n",
        "      <th>port_S</th>\n",
        "    </tr>\n",
        "    <tr>\n",
        "      <th>PassengerId</th>\n",
        "      <th></th>\n",
        "      <th></th>\n",
        "      <th></th>\n",
        "      <th></th>\n",
        "      <th></th>\n",
        "      <th></th>\n",
        "      <th></th>\n",
        "      <th></th>\n",
        "      <th></th>\n",
        "    </tr>\n",
        "  </thead>\n",
        "  <tbody>\n",
        "    <tr>\n",
        "      <th>892</th>\n",
        "      <td> 0</td>\n",
        "      <td> 3</td>\n",
        "      <td> 34.5</td>\n",
        "      <td> 0</td>\n",
        "      <td> 0</td>\n",
        "      <td>  7.8292</td>\n",
        "      <td> 0</td>\n",
        "      <td> 1</td>\n",
        "      <td> 0</td>\n",
        "    </tr>\n",
        "    <tr>\n",
        "      <th>893</th>\n",
        "      <td> 1</td>\n",
        "      <td> 3</td>\n",
        "      <td> 47.0</td>\n",
        "      <td> 1</td>\n",
        "      <td> 0</td>\n",
        "      <td>  7.0000</td>\n",
        "      <td> 0</td>\n",
        "      <td> 0</td>\n",
        "      <td> 1</td>\n",
        "    </tr>\n",
        "    <tr>\n",
        "      <th>894</th>\n",
        "      <td> 0</td>\n",
        "      <td> 2</td>\n",
        "      <td> 62.0</td>\n",
        "      <td> 0</td>\n",
        "      <td> 0</td>\n",
        "      <td>  9.6875</td>\n",
        "      <td> 0</td>\n",
        "      <td> 1</td>\n",
        "      <td> 0</td>\n",
        "    </tr>\n",
        "    <tr>\n",
        "      <th>895</th>\n",
        "      <td> 0</td>\n",
        "      <td> 3</td>\n",
        "      <td> 27.0</td>\n",
        "      <td> 0</td>\n",
        "      <td> 0</td>\n",
        "      <td>  8.6625</td>\n",
        "      <td> 0</td>\n",
        "      <td> 0</td>\n",
        "      <td> 1</td>\n",
        "    </tr>\n",
        "    <tr>\n",
        "      <th>896</th>\n",
        "      <td> 1</td>\n",
        "      <td> 3</td>\n",
        "      <td> 22.0</td>\n",
        "      <td> 1</td>\n",
        "      <td> 1</td>\n",
        "      <td> 12.2875</td>\n",
        "      <td> 0</td>\n",
        "      <td> 0</td>\n",
        "      <td> 1</td>\n",
        "    </tr>\n",
        "  </tbody>\n",
        "</table>\n",
        "</div>"
       ],
       "metadata": {},
       "output_type": "pyout",
       "prompt_number": 216,
       "text": [
        "             Sex  Pclass   Age  SibSp  Parch     Fare  port_C  port_Q  port_S\n",
        "PassengerId                                                                  \n",
        "892            0       3  34.5      0      0   7.8292       0       1       0\n",
        "893            1       3  47.0      1      0   7.0000       0       0       1\n",
        "894            0       2  62.0      0      0   9.6875       0       1       0\n",
        "895            0       3  27.0      0      0   8.6625       0       0       1\n",
        "896            1       3  22.0      1      1  12.2875       0       0       1"
       ]
      }
     ],
     "prompt_number": 216
    },
    {
     "cell_type": "code",
     "collapsed": false,
     "input": [
      "mu_age = newdf.Age.mean()\n",
      "sig_age = newdf.Age.std()\n",
      "mu_fare = newdf.Fare.mean()\n",
      "sig_fare = newdf.Fare.std()"
     ],
     "language": "python",
     "metadata": {},
     "outputs": [],
     "prompt_number": 200
    },
    {
     "cell_type": "code",
     "collapsed": false,
     "input": [
      "newdf['Age'] = (newdf.Age - mu_age)/(2*sig_age)\n",
      "newdf['Fare'] = (newdf.Fare - mu_fare)/(2*sig_fare)"
     ],
     "language": "python",
     "metadata": {},
     "outputs": [],
     "prompt_number": 217
    },
    {
     "cell_type": "code",
     "collapsed": false,
     "input": [
      "newdf.head()"
     ],
     "language": "python",
     "metadata": {},
     "outputs": [
      {
       "html": [
        "<div style=\"max-height:1000px;max-width:1500px;overflow:auto;\">\n",
        "<table border=\"1\" class=\"dataframe\">\n",
        "  <thead>\n",
        "    <tr style=\"text-align: right;\">\n",
        "      <th></th>\n",
        "      <th>Sex</th>\n",
        "      <th>Pclass</th>\n",
        "      <th>Age</th>\n",
        "      <th>SibSp</th>\n",
        "      <th>Parch</th>\n",
        "      <th>Fare</th>\n",
        "      <th>port_C</th>\n",
        "      <th>port_Q</th>\n",
        "      <th>port_S</th>\n",
        "    </tr>\n",
        "    <tr>\n",
        "      <th>PassengerId</th>\n",
        "      <th></th>\n",
        "      <th></th>\n",
        "      <th></th>\n",
        "      <th></th>\n",
        "      <th></th>\n",
        "      <th></th>\n",
        "      <th></th>\n",
        "      <th></th>\n",
        "      <th></th>\n",
        "    </tr>\n",
        "  </thead>\n",
        "  <tbody>\n",
        "    <tr>\n",
        "      <th>892</th>\n",
        "      <td> 0</td>\n",
        "      <td> 3</td>\n",
        "      <td> 0.304065</td>\n",
        "      <td> 0</td>\n",
        "      <td> 0</td>\n",
        "      <td>-0.245254</td>\n",
        "      <td> 0</td>\n",
        "      <td> 1</td>\n",
        "      <td> 0</td>\n",
        "    </tr>\n",
        "    <tr>\n",
        "      <th>893</th>\n",
        "      <td> 1</td>\n",
        "      <td> 3</td>\n",
        "      <td> 0.659258</td>\n",
        "      <td> 1</td>\n",
        "      <td> 0</td>\n",
        "      <td>-0.253597</td>\n",
        "      <td> 0</td>\n",
        "      <td> 0</td>\n",
        "      <td> 1</td>\n",
        "    </tr>\n",
        "    <tr>\n",
        "      <th>894</th>\n",
        "      <td> 0</td>\n",
        "      <td> 2</td>\n",
        "      <td> 1.085489</td>\n",
        "      <td> 0</td>\n",
        "      <td> 0</td>\n",
        "      <td>-0.226556</td>\n",
        "      <td> 0</td>\n",
        "      <td> 1</td>\n",
        "      <td> 0</td>\n",
        "    </tr>\n",
        "    <tr>\n",
        "      <th>895</th>\n",
        "      <td> 0</td>\n",
        "      <td> 3</td>\n",
        "      <td> 0.090949</td>\n",
        "      <td> 0</td>\n",
        "      <td> 0</td>\n",
        "      <td>-0.236869</td>\n",
        "      <td> 0</td>\n",
        "      <td> 0</td>\n",
        "      <td> 1</td>\n",
        "    </tr>\n",
        "    <tr>\n",
        "      <th>896</th>\n",
        "      <td> 1</td>\n",
        "      <td> 3</td>\n",
        "      <td>-0.051128</td>\n",
        "      <td> 1</td>\n",
        "      <td> 1</td>\n",
        "      <td>-0.200396</td>\n",
        "      <td> 0</td>\n",
        "      <td> 0</td>\n",
        "      <td> 1</td>\n",
        "    </tr>\n",
        "  </tbody>\n",
        "</table>\n",
        "</div>"
       ],
       "metadata": {},
       "output_type": "pyout",
       "prompt_number": 218,
       "text": [
        "             Sex  Pclass       Age  SibSp  Parch      Fare  port_C  port_Q  \\\n",
        "PassengerId                                                                  \n",
        "892            0       3  0.304065      0      0 -0.245254       0       1   \n",
        "893            1       3  0.659258      1      0 -0.253597       0       0   \n",
        "894            0       2  1.085489      0      0 -0.226556       0       1   \n",
        "895            0       3  0.090949      0      0 -0.236869       0       0   \n",
        "896            1       3 -0.051128      1      1 -0.200396       0       0   \n",
        "\n",
        "             port_S  \n",
        "PassengerId          \n",
        "892               0  \n",
        "893               1  \n",
        "894               0  \n",
        "895               1  \n",
        "896               1  "
       ]
      }
     ],
     "prompt_number": 218
    },
    {
     "cell_type": "code",
     "collapsed": false,
     "input": [
      "newdf.describe()"
     ],
     "language": "python",
     "metadata": {},
     "outputs": [
      {
       "html": [
        "<div style=\"max-height:1000px;max-width:1500px;overflow:auto;\">\n",
        "<table border=\"1\" class=\"dataframe\">\n",
        "  <thead>\n",
        "    <tr style=\"text-align: right;\">\n",
        "      <th></th>\n",
        "      <th>Sex</th>\n",
        "      <th>Pclass</th>\n",
        "      <th>Age</th>\n",
        "      <th>SibSp</th>\n",
        "      <th>Parch</th>\n",
        "      <th>Fare</th>\n",
        "      <th>port_C</th>\n",
        "      <th>port_Q</th>\n",
        "      <th>port_S</th>\n",
        "    </tr>\n",
        "  </thead>\n",
        "  <tbody>\n",
        "    <tr>\n",
        "      <th>count</th>\n",
        "      <td> 418.000000</td>\n",
        "      <td> 418.000000</td>\n",
        "      <td> 418.000000</td>\n",
        "      <td> 418.000000</td>\n",
        "      <td> 418.000000</td>\n",
        "      <td> 417.000000</td>\n",
        "      <td> 418.000000</td>\n",
        "      <td> 418.000000</td>\n",
        "      <td> 418.000000</td>\n",
        "    </tr>\n",
        "    <tr>\n",
        "      <th>mean</th>\n",
        "      <td>   0.363636</td>\n",
        "      <td>   2.265550</td>\n",
        "      <td>   0.006961</td>\n",
        "      <td>   0.447368</td>\n",
        "      <td>   0.392344</td>\n",
        "      <td>   0.034441</td>\n",
        "      <td>   0.244019</td>\n",
        "      <td>   0.110048</td>\n",
        "      <td>   0.645933</td>\n",
        "    </tr>\n",
        "    <tr>\n",
        "      <th>std</th>\n",
        "      <td>   0.481622</td>\n",
        "      <td>   0.841838</td>\n",
        "      <td>   0.500100</td>\n",
        "      <td>   0.896760</td>\n",
        "      <td>   0.981429</td>\n",
        "      <td>   0.562525</td>\n",
        "      <td>   0.430019</td>\n",
        "      <td>   0.313324</td>\n",
        "      <td>   0.478803</td>\n",
        "    </tr>\n",
        "    <tr>\n",
        "      <th>min</th>\n",
        "      <td>   0.000000</td>\n",
        "      <td>   1.000000</td>\n",
        "      <td>  -0.676267</td>\n",
        "      <td>   0.000000</td>\n",
        "      <td>   0.000000</td>\n",
        "      <td>  -0.324029</td>\n",
        "      <td>   0.000000</td>\n",
        "      <td>   0.000000</td>\n",
        "      <td>   0.000000</td>\n",
        "    </tr>\n",
        "    <tr>\n",
        "      <th>25%</th>\n",
        "      <td>   0.000000</td>\n",
        "      <td>   1.000000</td>\n",
        "      <td>  -0.420528</td>\n",
        "      <td>   0.000000</td>\n",
        "      <td>   0.000000</td>\n",
        "      <td>  -0.244584</td>\n",
        "      <td>   0.000000</td>\n",
        "      <td>   0.000000</td>\n",
        "      <td>   0.000000</td>\n",
        "    </tr>\n",
        "    <tr>\n",
        "      <th>50%</th>\n",
        "      <td>   0.000000</td>\n",
        "      <td>   3.000000</td>\n",
        "      <td>   0.005703</td>\n",
        "      <td>   0.000000</td>\n",
        "      <td>   0.000000</td>\n",
        "      <td>  -0.178595</td>\n",
        "      <td>   0.000000</td>\n",
        "      <td>   0.000000</td>\n",
        "      <td>   1.000000</td>\n",
        "    </tr>\n",
        "    <tr>\n",
        "      <th>75%</th>\n",
        "      <td>   1.000000</td>\n",
        "      <td>   3.000000</td>\n",
        "      <td>   0.339584</td>\n",
        "      <td>   1.000000</td>\n",
        "      <td>   0.000000</td>\n",
        "      <td>  -0.007086</td>\n",
        "      <td>   0.000000</td>\n",
        "      <td>   0.000000</td>\n",
        "      <td>   1.000000</td>\n",
        "    </tr>\n",
        "    <tr>\n",
        "      <th>max</th>\n",
        "      <td>   1.000000</td>\n",
        "      <td>   3.000000</td>\n",
        "      <td>   1.483306</td>\n",
        "      <td>   8.000000</td>\n",
        "      <td>   9.000000</td>\n",
        "      <td>   4.830870</td>\n",
        "      <td>   1.000000</td>\n",
        "      <td>   1.000000</td>\n",
        "      <td>   1.000000</td>\n",
        "    </tr>\n",
        "  </tbody>\n",
        "</table>\n",
        "</div>"
       ],
       "metadata": {},
       "output_type": "pyout",
       "prompt_number": 219,
       "text": [
        "              Sex      Pclass         Age       SibSp       Parch        Fare  \\\n",
        "count  418.000000  418.000000  418.000000  418.000000  418.000000  417.000000   \n",
        "mean     0.363636    2.265550    0.006961    0.447368    0.392344    0.034441   \n",
        "std      0.481622    0.841838    0.500100    0.896760    0.981429    0.562525   \n",
        "min      0.000000    1.000000   -0.676267    0.000000    0.000000   -0.324029   \n",
        "25%      0.000000    1.000000   -0.420528    0.000000    0.000000   -0.244584   \n",
        "50%      0.000000    3.000000    0.005703    0.000000    0.000000   -0.178595   \n",
        "75%      1.000000    3.000000    0.339584    1.000000    0.000000   -0.007086   \n",
        "max      1.000000    3.000000    1.483306    8.000000    9.000000    4.830870   \n",
        "\n",
        "           port_C      port_Q      port_S  \n",
        "count  418.000000  418.000000  418.000000  \n",
        "mean     0.244019    0.110048    0.645933  \n",
        "std      0.430019    0.313324    0.478803  \n",
        "min      0.000000    0.000000    0.000000  \n",
        "25%      0.000000    0.000000    0.000000  \n",
        "50%      0.000000    0.000000    1.000000  \n",
        "75%      0.000000    0.000000    1.000000  \n",
        "max      1.000000    1.000000    1.000000  "
       ]
      }
     ],
     "prompt_number": 219
    },
    {
     "cell_type": "code",
     "collapsed": false,
     "input": [
      "newdf.columns.tolist()"
     ],
     "language": "python",
     "metadata": {},
     "outputs": [
      {
       "metadata": {},
       "output_type": "pyout",
       "prompt_number": 220,
       "text": [
        "['Sex',\n",
        " 'Pclass',\n",
        " 'Age',\n",
        " 'SibSp',\n",
        " 'Parch',\n",
        " 'Fare',\n",
        " 'port_C',\n",
        " 'port_Q',\n",
        " 'port_S']"
       ]
      }
     ],
     "prompt_number": 220
    },
    {
     "cell_type": "heading",
     "level": 3,
     "metadata": {},
     "source": [
      "Write out to file (look at coursera files)"
     ]
    },
    {
     "cell_type": "code",
     "collapsed": true,
     "input": [
      "newdf.Survived.value_counts()"
     ],
     "language": "python",
     "metadata": {},
     "outputs": [
      {
       "ename": "AttributeError",
       "evalue": "'DataFrame' object has no attribute 'Survived'",
       "output_type": "pyerr",
       "traceback": [
        "\u001b[0;31m---------------------------------------------------------------------------\u001b[0m\n\u001b[0;31mAttributeError\u001b[0m                            Traceback (most recent call last)",
        "\u001b[0;32m<ipython-input-221-ed008f4d20e3>\u001b[0m in \u001b[0;36m<module>\u001b[0;34m()\u001b[0m\n\u001b[0;32m----> 1\u001b[0;31m \u001b[0mnewdf\u001b[0m\u001b[0;34m.\u001b[0m\u001b[0mSurvived\u001b[0m\u001b[0;34m.\u001b[0m\u001b[0mvalue_counts\u001b[0m\u001b[0;34m(\u001b[0m\u001b[0;34m)\u001b[0m\u001b[0;34m\u001b[0m\u001b[0m\n\u001b[0m",
        "\u001b[0;32m/Library/Python/2.7/site-packages/pandas/core/generic.pyc\u001b[0m in \u001b[0;36m__getattr__\u001b[0;34m(self, name)\u001b[0m\n\u001b[1;32m   1934\u001b[0m                 \u001b[0;32mreturn\u001b[0m \u001b[0mself\u001b[0m\u001b[0;34m[\u001b[0m\u001b[0mname\u001b[0m\u001b[0;34m]\u001b[0m\u001b[0;34m\u001b[0m\u001b[0m\n\u001b[1;32m   1935\u001b[0m             raise AttributeError(\"'%s' object has no attribute '%s'\" %\n\u001b[0;32m-> 1936\u001b[0;31m                                  (type(self).__name__, name))\n\u001b[0m\u001b[1;32m   1937\u001b[0m \u001b[0;34m\u001b[0m\u001b[0m\n\u001b[1;32m   1938\u001b[0m     \u001b[0;32mdef\u001b[0m \u001b[0m__setattr__\u001b[0m\u001b[0;34m(\u001b[0m\u001b[0mself\u001b[0m\u001b[0;34m,\u001b[0m \u001b[0mname\u001b[0m\u001b[0;34m,\u001b[0m \u001b[0mvalue\u001b[0m\u001b[0;34m)\u001b[0m\u001b[0;34m:\u001b[0m\u001b[0;34m\u001b[0m\u001b[0m\n",
        "\u001b[0;31mAttributeError\u001b[0m: 'DataFrame' object has no attribute 'Survived'"
       ]
      }
     ],
     "prompt_number": 221
    },
    {
     "cell_type": "code",
     "collapsed": false,
     "input": [],
     "language": "python",
     "metadata": {},
     "outputs": [],
     "prompt_number": 30
    },
    {
     "cell_type": "code",
     "collapsed": false,
     "input": [
      "newdf.to_csv(outfile, index=False,header=True,na_rep=0) #note the na_rep is for the test data, missing 1 Fare entry\n",
      "newdf.to_csv(outfile_octave, index=False,header=False,na_rep=0)"
     ],
     "language": "python",
     "metadata": {},
     "outputs": [],
     "prompt_number": 222
    },
    {
     "cell_type": "code",
     "collapsed": false,
     "input": [],
     "language": "python",
     "metadata": {},
     "outputs": []
    }
   ],
   "metadata": {}
  }
 ]
}